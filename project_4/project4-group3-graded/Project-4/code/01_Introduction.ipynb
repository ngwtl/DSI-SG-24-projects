{
 "cells": [
  {
   "cell_type": "markdown",
   "id": "7d44ec16",
   "metadata": {
    "id": "7d44ec16"
   },
   "source": [
    "<img src=\"http://imgur.com/1ZcRyrc.png\" style=\"float: left; margin: 20px; height: 55px\">\n",
    "\n",
    "# Project 4 - West Nile Virus Prediction"
   ]
  },
  {
   "cell_type": "markdown",
   "id": "c3c64a00",
   "metadata": {
    "id": "c3c64a00"
   },
   "source": [
    "# Part 1 : Introduction\n"
   ]
  },
  {
   "cell_type": "markdown",
   "id": "f36e01a1",
   "metadata": {},
   "source": [
    "## Contents:\n",
    "* [Organisation of Notebooks](#Organisation-of-Notebooks)\n",
    "* [Problem Statement](#Problem-Statement)\n",
    "* [Background](#Background)\n",
    "* [Executive Summary](#Executive-Summary)\n",
    "* [Data Dictionary](#Data-Dictionary)"
   ]
  },
  {
   "cell_type": "markdown",
   "id": "3a72038c",
   "metadata": {},
   "source": [
    "## Organisation of Notebooks:\n",
    "1. Introduction\n",
    "2. [EDA](./02_EDA.ipynb)\n",
    "3. [Model Evaluation](./03_Model_Evaluation.ipynb)\n",
    "4. [Recommendation and Conclusion](./04_Recommendation_and_Conclusion.ipynb)"
   ]
  },
  {
   "cell_type": "markdown",
   "id": "b26afdc8",
   "metadata": {
    "id": "b26afdc8"
   },
   "source": [
    "## Problem Statement\n",
    "\n",
    "Our team, as part of the Chicago Department of Public Health (CDPH), has been tasked with predicting the next outbreak of the West Nile Virus (WNV) in Chicago. This information would be useful for the City of Chicago and the CDPH to identify areas of high risk of outbreak in advance and to allocate resources accordingly. We will also perform a cost-benefit analysis of the current vector control program and make recommendation on the next steps going forward."
   ]
  },
  {
   "cell_type": "markdown",
   "id": "QtbBuygNdBZn",
   "metadata": {
    "id": "QtbBuygNdBZn"
   },
   "source": [
    "## Background\n",
    "\n",
    "West Nile Virus emerged in the United States in the New York metropolitan area in the fall of 1999. Since then, the virus, which can be transmitted to humans by the bite of an infected mosquito, has quickly spread across the country.\n",
    "\n",
    "In Illinois, West Nile Virus was first identified in September 2001 when laboratory tests confirmed its presence in two dead crows found in the Chicago area. The following year, the state's first human cases and deaths from West Nile disease were recorded and all but two of the state's 102 counties eventually reported a positive human, bird, mosquito or horse. By the end of 2002, Illinois had counted more human cases (884) and deaths (64) than any other state in the United States.([*source*](https://dph.illinois.gov/topics-services/diseases-and-conditions/west-nile-virus))\n",
    "\n",
    "By 2004, the City of Chicago and the Chicago Department of Public Health (CDPH) had established a comprehensive surveillance and control program that is still in effect today. Every week from June to September, mosquitos in traps across the city are tested for the virus. The results of these tests influence when and where the city will spray airborne pesticides to control adult mosquito populations. ([*source*](https://www.kaggle.com/c/predict-west-nile-virus))\n",
    "\n",
    "About 25% of those became infected become ill with mild, influenza-like symptoms. There is however a 1 in 230 chance that someone infected develop severe symptoms which affect the central nervous system. ([*source*](https://www.uptodate.com/contents/west-nile-virus-infection-beyond-the-basics))"
   ]
  },
  {
   "cell_type": "markdown",
   "id": "4bc3f5e4",
   "metadata": {
    "id": "4bc3f5e4"
   },
   "source": [
    "## Executive Summary"
   ]
  },
  {
   "cell_type": "markdown",
   "id": "d6f41003",
   "metadata": {
    "id": "d6f41003"
   },
   "source": [
    "For this project, datasets containing information such as mosquitos species caught, number of mosquitoes caught, presence of WNV in the mosquitos and coordinate location of traps were used. Information on the date and location of spraying and various weather parameters were also utilized. The following summarises the analysis process:\n",
    "\n",
    "1. Impute or remove missing or duplicated data from the train, test, weather and spray datasets\n",
    "\n",
    "2. Merge the train and spray datasets and perform EDA on the effect of spraying on presence of WNV and number of mosquitos\n",
    "\n",
    "3. Merge the train and weather datasets and perform feature engineering and selection by evaluating the ROC_AUC score of models against the selected features iteratively \n",
    "\n",
    "4. Tune the hyperparameters for 18 models by gridsearching and choose the best one based on ROC_AUC score on the train set, the CV ROC_AUC score on the train set , the ROC_AUC score on the test set and finally the Kaggle score\n",
    "\n",
    "The best model selected was the XGBoost Classifier (Model 18) as even though it has a lower ROC_AUC than the Logistic Regression (Model 17), it has a higher sensitivity which is important because Chicago city officials might make expensive decisions on mosquito-eradication methods (spray in areas we predict to be positive, and don't spray in areas we predict to be negative). Therefore it is also important to have as high true positive as possible, and as low false negative as possible. This points to using sensitivity as a secondary metric for us to use as assessment since ROC_AUC is quite close between Models 17 and 18.\n",
    "\n",
    "The following table summarizes the performance of all 18 models:"
   ]
  },
  {
   "cell_type": "markdown",
   "id": "359b742c",
   "metadata": {
    "id": "359b742c"
   },
   "source": [
    "| Model No. | Classifier | CV Score (train) | ROC_AUC (train) | ROC_AUC (test) | Kaggle Score | Runtime (sec) |\n",
    "|---|---|---|---|---|---|---|\n",
    "| 1 | LogisticRegression(random_state=42, solver='liblinear') | 0.989000 | 0.994000 | 0.830000 | 0.684000 | 7 |\n",
    "| 2 | KNeighborsClassifier() | 0.919000 | 1.000000 | 0.7776000 | 0.596000 | 24 |\n",
    "| 4 | RandomForestClassifier(random_state=42) | 0.979000 | 0.996000 | 0.804000 | 0.643000 | 33 |\n",
    "| 4 | ExtraTreesClassifier(random_state=42) | 0.989000 | 1.000000 | 0.809000 | 0.710000 | 93 |\n",
    "| 5 | SVC(max_iter=10000, random_state=42) | 0.973000 | 0.981000 | 0.803000 | 0.598000 | 136 |\n",
    "| 6 | XGBClassifier(base_score=None, booster=None, colsample_bylevel=None, <br>colsample_bynode=None, colsample_bytree=None, gamma=None, gpu_id=None, <br>importance_type='gain', interaction_constraints=None, learning_rate=None, <br>max_delta_step=None, max_depth=None, min_child_weight=None, missing=nan, <br>monotone_constraints=None, n_estimators=100, n_jobs=None, num_parallel_tree=None, <br>random_state=42, reg_alpha=None, reg_lambda=None, scale_pos_weight=None, <br>subsample=None, tree_method=None, validate_parameters=None, verbosity=None) | 0.992000 | 1.000000 | 0.831000 | 0.697000 | 133 |\n",
    "| 7 | LogisticRegression(random_state=42) | 0.989000 | 0.994000 | 0.828000 | 0.684000 | 176 |\n",
    "| 8 | XGBClassifier(base_score=None, booster=None, colsample_bylevel=None, <br>colsample_bynode=None, colsample_bytree=None, gamma=None, gpu_id=None, <br>importance_type='gain', interaction_constraints=None, learning_rate=None, <br>max_delta_step=None, max_depth=None, min_child_weight=None, missing=nan, <br>monotone_constraints=None, n_estimators=100, n_jobs=None, num_parallel_tree=None, <br>random_state=42, reg_alpha=None, reg_lambda=None, scale_pos_weight=None, <br>subsample=None, tree_method=None, validate_parameters=None, verbosity=None) | 0.991000 | 0.999000 | 0.830000 | 0.658000 | 104 |\n",
    "| 9 | LogisticRegression(random_state=42, solver='liblinear') | 0.989000 | 0.994000 | 0.826000 | 0.693000 | 10 |\n",
    "| 10 | XGBClassifier(base_score=None, booster=None, colsample_bylevel=None, <br>colsample_bynode=None, colsample_bytree=None, gamma=None, gpu_id=None, <br>importance_type='gain', interaction_constraints=None, learning_rate=None, <br>max_delta_step=None, max_depth=None, min_child_weight=None, missing=nan, <br>monotone_constraints=None, n_estimators=100, n_jobs=None, num_parallel_tree=None, <br>random_state=42, reg_alpha=None, reg_lambda=None, scale_pos_weight=None, subsample=None, <br>tree_method=None, validate_parameters=None, verbosity=None) | 0.990000 | 1.000000 | 0.797000 | 0.673000 | 182 |\n",
    "| 11 | LogisticRegression(random_state=42, solver='liblinear') | 0.988000 | 0.993000 | 0.832000 | 0.717000 | 6 |\n",
    "| 12 | XGBClassifier(base_score=None, booster=None, colsample_bylevel=None, <br>colsample_bynode=None, colsample_bytree=None, gamma=None, gpu_id=None, <br>importance_type='gain', interaction_constraints=None, learning_rate=None, <br>max_delta_step=None, max_depth=None, min_child_weight=None, missing=nan, <br>monotone_constraints=None, n_estimators=100, n_jobs=None, num_parallel_tree=None, <br>random_state=42, reg_alpha=None, reg_lambda=None, scale_pos_weight=None, <br>subsample=None, tree_method=None, validate_parameters=None, verbosity=None) | 0.990000 | 0.997000 | 0.826000 | 0.683000 | 141 |\n",
    "| 13 | LogisticRegression(random_state=42, solver='liblinear') | 0.987000 | 0.992000 | 0.826000 | 0.734000 | 4 |\n",
    "| 14 | XGBClassifier(base_score=None, booster=None, colsample_bylevel=None, <br>colsample_bynode=None, colsample_bytree=None, gamma=None, gpu_id=None, <br>importance_type='gain', interaction_constraints=None, learning_rate=None, <br>max_delta_step=None, max_depth=None, min_child_weight=None, missing=nan, <br>monotone_constraints=None, n_estimators=100, n_jobs=None, num_parallel_tree=None, <br>random_state=42, reg_alpha=None, reg_lambda=None, scale_pos_weight=None, subsample=None, <br>tree_method=None, validate_parameters=None, verbosity=None) | 0.992000 | 0.999000 | 0.825000 | 0.715000 | 114 |\n",
    "| 15 | LogisticRegression(random_state=42, solver='liblinear') | 0.989000 | 0.993000 | 0.845000 | 0.708000 | 5 |\n",
    "| 16 | XGBClassifier(base_score=None, booster=None, colsample_bylevel=None, <br>colsample_bynode=None, colsample_bytree=None, gamma=None, gpu_id=None, <br>importance_type='gain', interaction_constraints=None, learning_rate=None, <br>max_delta_step=None, max_depth=None, min_child_weight=None, missing=nan, <br>monotone_constraints=None, n_estimators=100, n_jobs=None, num_parallel_tree=None, <br>random_state=42, reg_alpha=None, reg_lambda=None, scale_pos_weight=None, subsample=None, <br>tree_method=None, validate_parameters=None, verbosity=None) | 0.990000 | 0.997000 | 0.829000 | 0.690000 | 118 |\n",
    "| 17 | LogisticRegression(random_state=42, solver='liblinear') | 0.990000 | 0.994000 | 0.849000 | 0.725000 | 9 |\n",
    "| 18 | XGBClassifier(base_score=None, booster=None, colsample_bylevel=None, <br>colsample_bynode=None, colsample_bytree=None, gamma=None, gpu_id=None, <br>importance_type='gain', interaction_constraints=None, learning_rate=None, <br>max_delta_step=None, max_depth=None, min_child_weight=None, missing=nan, <br>monotone_constraints=None, n_estimators=100, n_jobs=None, num_parallel_tree=None, <br>random_state=42, reg_alpha=None, reg_lambda=None, scale_pos_weight=None, subsample=None, <br>tree_method=None, validate_parameters=None, verbosity=None) | 0.991000 | 0.999000 | 0.843000 | 0.704000 | 129 |\n",
    "|  |  |  |  |  |  |  |"
   ]
  },
  {
   "cell_type": "markdown",
   "id": "acad5198",
   "metadata": {
    "id": "acad5198"
   },
   "source": [
    "## Data Dictionary "
   ]
  },
  {
   "cell_type": "markdown",
   "id": "ccc62827",
   "metadata": {
    "id": "ccc62827"
   },
   "source": [
    "| Feature | Type | Dataset | Description |\n",
    "|---|---|---|---|\n",
    "| Id | Integer | Test | The id of the record |\n",
    "| Date | Object | Train/Test/Weather | Date that the WNV test is performed for Train/TestDate of weather measurement for Weather |\n",
    "| Address | Object | Train/Test | Approximate address of the location of trap. This is used to send to the GeoCoder. |\n",
    "| Species | Object | Train/Test | The species of mosquitos |\n",
    "| Block | Integer | Train/Test | Block number of address |\n",
    "| Street | Object | Train/Test | Street name |\n",
    "| Trap | Object | Train/Test | Id of the trap |\n",
    "| AddressNumberAndStreet | Object | Train/Test | Approximate address returned from GeoCoder |\n",
    "| Latitude | Float | Train/Test/Spray | Latitude returned from GeoCoder for Train/Test <br>Latitude of the spray |\n",
    "| Longitude | Float | Train/Test/Spray | Longitude returned from GeoCoder for Train/Test<br>Longitude of the spray |\n",
    "| AddressAccuracy | Integer | Train/Test | Accuracy returned from GeoCoder |\n",
    "| NumMosquitos | Integer | Train | Number of mosquitoes caught in this trap |\n",
    "| WnvPresent | Integer | Train | Whether West Nile Virus was present in these mosquitos. <br>1 means WNV is present, and 0 means not present. |\n",
    "| Station | Integer | Weather | 1; automated station without a precipitation descriminator. <br>2; automated station with precipitation descriminator. |\n",
    "| Tmax | Integer | Weather | Maximum Temperature |\n",
    "| Tmin | Integer | Weather | Minimum Temperature |\n",
    "| Tavg | Integer | Weather | Average Temperature |\n",
    "| Depart | Integer | Weather | Departure from normal |\n",
    "| Dewpoint | Integer | Weather | Average dew point |\n",
    "| Wetbulb | Integer | Weather | Average wet bulb |\n",
    "| Heat | Integer | Weather | Heating (Season begins with July) |\n",
    "| Cool | Integer | Weather | Cooling (Season begins with January) |\n",
    "| Sunrise | Object | Weather | Sunrise Time (Calculated, not observed) |\n",
    "| Sunset | Object | Weather | Sunset Time (Calculated, not observed) |\n",
    "| CodeSum | Object | Weather | Significant Weather Types<br><br>+FC TORNADO/WATERSPOUT<br> FC  FUNNEL CLOUD<br> TS  THUNDERSTORM<br> GR  HAIL<br>RA RAIN<br>DZ DRIZZLE<br>SN SNOW<br>SG SNOW GRAINS<br>GS SMALL HAIL &/OR SNOW PELLETS<br>PL ICE PELLETS<br>IC ICE CRYSTALS<br>FG+ HEAVY FOG (FG & LE.25 MILES VISIBILITY) FG FOG<br>BR MIST<br>UP UNKNOWN PRECIPITATION<br>HZ HAZE<br>FU SMOKE<br>VA VOLCANIC ASH<br>DU WIDESPREAD DUST<br>DS DUSTSTORM<br>PO SAND/DUST WHIRLS<br>SA SAND<br>SS SANDSTORM<br>PY SPRAY<br>SQ SQUALL<br>DR LOW DRIFTING<br>SH SHOWER<br>FZ FREEZING<br>MI SHALLOW<br>PR PARTIAL<br>BC PATCHES<br>BL BLOWING<br>VC VICINITY<br>- LIGHT + HEAVY<br>\"NO SIGN\" MODERATE |\n",
    "| Depth | Integer | Weather | Depth of snow/ice in inches SNOW/ICE (ON GROUND)(1200 UTC)T = TRACEM = MISSING DATA |\n",
    "| Water1 | Integer | Weather | WATER EQUIVALENT (1800 UTC) M = MISSING DATA |\n",
    "| SnowFall | Float | Weather | SNOWFALL (INCHES AND TENTHS)(2400 LST)*<br>T = TRACEM = MISSING DATA |\n",
    "| PrecipTotal | Float | Weather | WATER EQUIVALENT(INCHES & HUNDREDTHS(2400 LST) RAINFALL & MELTED SNOW<br>M = MISSING DATAT = TRACE |\n",
    "| StnPressure | Float | Weather | Pressure in inches |\n",
    "| SeaLevel | Float | Weather | Average Sea Level Pressure |\n",
    "| ResultSpeed | Float | Weather | Resultant Wind Speed |\n",
    "| ResultDir | Integer | Weather | Resultant Wind Direction (Whole Degree) |\n",
    "| AvgSpeed | Float | Weather | Wing Average Speed |\n"
   ]
  },
  {
   "cell_type": "code",
   "execution_count": null,
   "id": "bc5d03aa",
   "metadata": {
    "id": "bc5d03aa"
   },
   "outputs": [],
   "source": []
  }
 ],
 "metadata": {
  "colab": {
   "collapsed_sections": [],
   "name": "01_Introduction.ipynb",
   "provenance": []
  },
  "kernelspec": {
   "display_name": "Python 3",
   "language": "python",
   "name": "python3"
  },
  "language_info": {
   "codemirror_mode": {
    "name": "ipython",
    "version": 3
   },
   "file_extension": ".py",
   "mimetype": "text/x-python",
   "name": "python",
   "nbconvert_exporter": "python",
   "pygments_lexer": "ipython3",
   "version": "3.8.8"
  },
  "toc": {
   "base_numbering": 1,
   "nav_menu": {},
   "number_sections": true,
   "sideBar": true,
   "skip_h1_title": true,
   "title_cell": "Table of Contents",
   "title_sidebar": "Contents",
   "toc_cell": false,
   "toc_position": {},
   "toc_section_display": true,
   "toc_window_display": true
  }
 },
 "nbformat": 4,
 "nbformat_minor": 5
}
