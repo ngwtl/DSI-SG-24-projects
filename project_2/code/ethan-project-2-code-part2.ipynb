{
 "cells": [
  {
   "cell_type": "markdown",
   "id": "c7623415",
   "metadata": {
    "toc": true
   },
   "source": [
    "<h1>Table of Contents<span class=\"tocSkip\"></span></h1>\n",
    "<div class=\"toc\"><ul class=\"toc-item\"><li><span><a href=\"#Import-libraries\" data-toc-modified-id=\"Import-libraries-1\"><span class=\"toc-item-num\">1&nbsp;&nbsp;</span>Import libraries</a></span></li><li><span><a href=\"#Load-cleaned-data\" data-toc-modified-id=\"Load-cleaned-data-2\"><span class=\"toc-item-num\">2&nbsp;&nbsp;</span>Load cleaned data</a></span></li><li><span><a href=\"#Baseline-model\" data-toc-modified-id=\"Baseline-model-3\"><span class=\"toc-item-num\">3&nbsp;&nbsp;</span>Baseline model</a></span><ul class=\"toc-item\"><li><span><a href=\"#Definitions\" data-toc-modified-id=\"Definitions-3.1\"><span class=\"toc-item-num\">3.1&nbsp;&nbsp;</span>Definitions</a></span></li><li><span><a href=\"#Create-train---validate-set-on-Train-data\" data-toc-modified-id=\"Create-train---validate-set-on-Train-data-3.2\"><span class=\"toc-item-num\">3.2&nbsp;&nbsp;</span>Create train - validate set on Train data</a></span></li><li><span><a href=\"#Measure-R2-and-RMSE\" data-toc-modified-id=\"Measure-R2-and-RMSE-3.3\"><span class=\"toc-item-num\">3.3&nbsp;&nbsp;</span>Measure R2 and RMSE</a></span></li><li><span><a href=\"#Start-performance-tracking-table\" data-toc-modified-id=\"Start-performance-tracking-table-3.4\"><span class=\"toc-item-num\">3.4&nbsp;&nbsp;</span>Start performance tracking table</a></span></li></ul></li><li><span><a href=\"#Basic-regression-models\" data-toc-modified-id=\"Basic-regression-models-4\"><span class=\"toc-item-num\">4&nbsp;&nbsp;</span>Basic regression models</a></span><ul class=\"toc-item\"><li><span><a href=\"#Scale-X-variables\" data-toc-modified-id=\"Scale-X-variables-4.1\"><span class=\"toc-item-num\">4.1&nbsp;&nbsp;</span>Scale X variables</a></span></li><li><span><a href=\"#Standard-regression-(on-X)\" data-toc-modified-id=\"Standard-regression-(on-X)-4.2\"><span class=\"toc-item-num\">4.2&nbsp;&nbsp;</span>Standard regression (on X)</a></span></li><li><span><a href=\"#Lasso-regression\" data-toc-modified-id=\"Lasso-regression-4.3\"><span class=\"toc-item-num\">4.3&nbsp;&nbsp;</span>Lasso regression</a></span></li><li><span><a href=\"#Ridge-regression\" data-toc-modified-id=\"Ridge-regression-4.4\"><span class=\"toc-item-num\">4.4&nbsp;&nbsp;</span>Ridge regression</a></span></li></ul></li><li><span><a href=\"#Feature-engineering-(4th-round)\" data-toc-modified-id=\"Feature-engineering-(4th-round)-5\"><span class=\"toc-item-num\">5&nbsp;&nbsp;</span>Feature engineering (4th round)</a></span><ul class=\"toc-item\"><li><span><a href=\"#Log/sqrt-sale-price-&amp;-other-variables\" data-toc-modified-id=\"Log/sqrt-sale-price-&amp;-other-variables-5.1\"><span class=\"toc-item-num\">5.1&nbsp;&nbsp;</span>Log/sqrt sale price &amp; other variables</a></span><ul class=\"toc-item\"><li><span><a href=\"#Standard-regression-(on-X2)\" data-toc-modified-id=\"Standard-regression-(on-X2)-5.1.1\"><span class=\"toc-item-num\">5.1.1&nbsp;&nbsp;</span>Standard regression (on X2)</a></span></li><li><span><a href=\"#Lasso-regression\" data-toc-modified-id=\"Lasso-regression-5.1.2\"><span class=\"toc-item-num\">5.1.2&nbsp;&nbsp;</span>Lasso regression</a></span></li><li><span><a href=\"#Ridge-regression\" data-toc-modified-id=\"Ridge-regression-5.1.3\"><span class=\"toc-item-num\">5.1.3&nbsp;&nbsp;</span>Ridge regression</a></span></li></ul></li><li><span><a href=\"#Ordinals\" data-toc-modified-id=\"Ordinals-5.2\"><span class=\"toc-item-num\">5.2&nbsp;&nbsp;</span>Ordinals</a></span><ul class=\"toc-item\"><li><span><a href=\"#Standard-regression-(on-X3)\" data-toc-modified-id=\"Standard-regression-(on-X3)-5.2.1\"><span class=\"toc-item-num\">5.2.1&nbsp;&nbsp;</span>Standard regression (on X3)</a></span></li><li><span><a href=\"#Lasso-regression\" data-toc-modified-id=\"Lasso-regression-5.2.2\"><span class=\"toc-item-num\">5.2.2&nbsp;&nbsp;</span>Lasso regression</a></span></li><li><span><a href=\"#Ridge-regression\" data-toc-modified-id=\"Ridge-regression-5.2.3\"><span class=\"toc-item-num\">5.2.3&nbsp;&nbsp;</span>Ridge regression</a></span></li></ul></li><li><span><a href=\"#Interaction-terms-(on-X4)\" data-toc-modified-id=\"Interaction-terms-(on-X4)-5.3\"><span class=\"toc-item-num\">5.3&nbsp;&nbsp;</span>Interaction terms (on X4)</a></span><ul class=\"toc-item\"><li><span><a href=\"#Standard-regression-(on-X4)\" data-toc-modified-id=\"Standard-regression-(on-X4)-5.3.1\"><span class=\"toc-item-num\">5.3.1&nbsp;&nbsp;</span>Standard regression (on X4)</a></span></li></ul></li></ul></li><li><span><a href=\"#Model-selection\" data-toc-modified-id=\"Model-selection-6\"><span class=\"toc-item-num\">6&nbsp;&nbsp;</span>Model selection</a></span><ul class=\"toc-item\"><li><span><a href=\"#Between-Models-5-7-&amp;-Models-8-10\" data-toc-modified-id=\"Between-Models-5-7-&amp;-Models-8-10-6.1\"><span class=\"toc-item-num\">6.1&nbsp;&nbsp;</span>Between Models 5-7 &amp; Models 8-10</a></span></li><li><span><a href=\"#Between-Model-5,-6-or-7\" data-toc-modified-id=\"Between-Model-5,-6-or-7-6.2\"><span class=\"toc-item-num\">6.2&nbsp;&nbsp;</span>Between Model 5, 6 or 7</a></span></li></ul></li><li><span><a href=\"#Recommendations\" data-toc-modified-id=\"Recommendations-7\"><span class=\"toc-item-num\">7&nbsp;&nbsp;</span>Recommendations</a></span><ul class=\"toc-item\"><li><span><a href=\"#Key-points\" data-toc-modified-id=\"Key-points-7.1\"><span class=\"toc-item-num\">7.1&nbsp;&nbsp;</span>Key points</a></span></li><li><span><a href=\"#Details\" data-toc-modified-id=\"Details-7.2\"><span class=\"toc-item-num\">7.2&nbsp;&nbsp;</span>Details</a></span><ul class=\"toc-item\"><li><span><a href=\"#Neighborhood-desirability\" data-toc-modified-id=\"Neighborhood-desirability-7.2.1\"><span class=\"toc-item-num\">7.2.1&nbsp;&nbsp;</span>Neighborhood desirability</a></span></li><li><span><a href=\"#Proximity-to-conditions\" data-toc-modified-id=\"Proximity-to-conditions-7.2.2\"><span class=\"toc-item-num\">7.2.2&nbsp;&nbsp;</span>Proximity to conditions</a></span></li><li><span><a href=\"#Masonry-veneer-type\" data-toc-modified-id=\"Masonry-veneer-type-7.2.3\"><span class=\"toc-item-num\">7.2.3&nbsp;&nbsp;</span>Masonry veneer type</a></span></li><li><span><a href=\"#Sale-type\" data-toc-modified-id=\"Sale-type-7.2.4\"><span class=\"toc-item-num\">7.2.4&nbsp;&nbsp;</span>Sale type</a></span></li><li><span><a href=\"#Other-variables\" data-toc-modified-id=\"Other-variables-7.2.5\"><span class=\"toc-item-num\">7.2.5&nbsp;&nbsp;</span>Other variables</a></span></li></ul></li></ul></li><li><span><a href=\"#Conclusion\" data-toc-modified-id=\"Conclusion-8\"><span class=\"toc-item-num\">8&nbsp;&nbsp;</span>Conclusion</a></span></li></ul></div>"
   ]
  },
  {
   "cell_type": "markdown",
   "id": "c4264917",
   "metadata": {},
   "source": [
    "# Model Selection and Final Round of Feature Engineering"
   ]
  },
  {
   "cell_type": "markdown",
   "id": "6b839940",
   "metadata": {},
   "source": [
    "(this notebook was created with the help of Nbextensions' \"Table of Contents (2)\" and is best viewed / navigated by enabling the extension)"
   ]
  },
  {
   "cell_type": "markdown",
   "id": "fcc279b9",
   "metadata": {},
   "source": [
    "## Import libraries"
   ]
  },
  {
   "cell_type": "code",
   "execution_count": null,
   "id": "4dc43399",
   "metadata": {},
   "outputs": [],
   "source": [
    "# import libraries\n",
    "import numpy as np\n",
    "import pandas as pd\n",
    "import seaborn as sns\n",
    "import matplotlib.pyplot as plt\n",
    "%matplotlib inline\n",
    "\n",
    "from sklearn.preprocessing import StandardScaler, OneHotEncoder, PolynomialFeatures\n",
    "from sklearn.compose import ColumnTransformer\n",
    "\n",
    "from sklearn.model_selection import train_test_split, cross_val_score\n",
    "\n",
    "from sklearn.linear_model import (\n",
    "    LinearRegression,\n",
    "    Lasso,\n",
    "    LassoCV,\n",
    "    Ridge,\n",
    "    RidgeCV,\n",
    "    ElasticNet,\n",
    "    ElasticNetCV\n",
    ")\n",
    "\n",
    "from sklearn.metrics import (\n",
    "    r2_score,\n",
    "    mean_squared_error\n",
    ")"
   ]
  },
  {
   "cell_type": "markdown",
   "id": "bcd1011f",
   "metadata": {},
   "source": [
    "## Load cleaned data"
   ]
  },
  {
   "cell_type": "code",
   "execution_count": null,
   "id": "25620e26",
   "metadata": {},
   "outputs": [],
   "source": [
    "# Read cleaned dataframes from Part 1 \n",
    "\n",
    "df_train = pd.read_csv(\"../datasets/df_train.csv\")\n",
    "df_test = pd.read_csv(\"../datasets/df_test.csv\")"
   ]
  },
  {
   "cell_type": "markdown",
   "id": "cd09f95a",
   "metadata": {},
   "source": [
    "## Baseline model"
   ]
  },
  {
   "cell_type": "markdown",
   "id": "908c46d8",
   "metadata": {},
   "source": [
    "### Definitions\n",
    "To avoid confusion, I shall call \"df_test\" which is derived from Kaggle's test.csv file as the __\"Kaggle competition set\"__ from now on, instead of calling it the test set like i did in the first notebook.\n",
    "\n",
    "The \"df_train\" dataframe which is derived from Kaggle's train.csv file will be split into two data sets according to a 75/25 split, and I will call former __\"train set\"__ and latter __\"test set\"__ (which is actually the validation set)."
   ]
  },
  {
   "cell_type": "markdown",
   "id": "d60048f6",
   "metadata": {},
   "source": [
    "### Create train - validate set on Train data "
   ]
  },
  {
   "cell_type": "code",
   "execution_count": null,
   "id": "e4d7afcb",
   "metadata": {},
   "outputs": [],
   "source": [
    "# Train-test-split on df_train\n",
    "\n",
    "y = df_train.saleprice\n",
    "X = df_train.drop(columns = [\"saleprice\"])\n",
    "\n",
    "# Set random seed = 42 so that TAs can match written results to their code run\n",
    "X_train, X_test, y_train, y_test = train_test_split(X, y, random_state = 42)"
   ]
  },
  {
   "cell_type": "code",
   "execution_count": null,
   "id": "8b82fee2",
   "metadata": {},
   "outputs": [],
   "source": [
    "# Check\n",
    "X_train.shape, X_test.shape, y_train.shape, y_test.shape"
   ]
  },
  {
   "cell_type": "markdown",
   "id": "5d275583",
   "metadata": {},
   "source": [
    "### Measure R2 and RMSE"
   ]
  },
  {
   "cell_type": "markdown",
   "id": "db4963d9",
   "metadata": {},
   "source": [
    "My baseline model is to use the mean of sale prices in the train set as the predictor of sale prices in the test set. I shall use R-squared value (\"R2) and Root Mean Squared Error (\"RMSE\") as performance metrics."
   ]
  },
  {
   "cell_type": "code",
   "execution_count": null,
   "id": "c633ff0e",
   "metadata": {},
   "outputs": [],
   "source": [
    "# Baseline predictor \n",
    "y_pred = np.mean(y_train)\n",
    "y_pred"
   ]
  },
  {
   "cell_type": "code",
   "execution_count": null,
   "id": "326c6c01",
   "metadata": {},
   "outputs": [],
   "source": [
    "# R2 and RMSE of baseline model on train set and test set\n",
    "print(f\"The R2 value for baseline model on train set is \\\n",
    "    {r2_score(y_train, [y_pred] * len(y_train)):.2f}.\")\n",
    "print(f\"The RMSE value for baseline model on train set is \\\n",
    "    {np.sqrt(mean_squared_error(y_train, [y_pred] * len(y_train))):.0f}.\")\n",
    "\n",
    "print(f\"The R2 value for baseline model on train set is \\\n",
    "    {r2_score(y_test, [y_pred] * len(y_test)):.5f}.\")\n",
    "print(f\"The RMSE value for baseline model on train set is \\\n",
    "    {np.sqrt(mean_squared_error(y_test, [y_pred] * len(y_test))):.0f}.\")"
   ]
  },
  {
   "cell_type": "markdown",
   "id": "a18efb46",
   "metadata": {},
   "source": [
    "Since predicted value of y is the average of all y-values in the Train set, the R2 score on train set will be 0 by definition, as the sum of squares of residuals will be exactly equal to the total sum of squares since I have set $\\hat{y}_{i} =  \\bar {y}$.\n",
    "\n",
    "> $ R2 = 1 - (\\displaystyle SS_{\\text{res}} / \\displaystyle SS_{\\text{tot}})$, where\n",
    "\n",
    "> $\\displaystyle SS_{\\text{res}} =\\sum _{i}(y_{i}-\\hat{y}_{i})^{2} $\n",
    "\n",
    "> $\\displaystyle SS_{\\text{tot}} =\\sum _{i}(y_{i}-{\\bar {y}})^{2} $\n",
    "\n",
    "As $\\displaystyle SS_{\\text{res}} = \\displaystyle SS_{\\text{tot}}$, it means I did not manage to explain any of the variation in $y_{i}$ at all, so R2 should be rightfully zero.\n",
    "\n",
    "The fact that R2 on test set is slightly negative means that using the train's set mean as predictor of test set's sale prices is even worse.\n",
    "\n",
    "The RMSE value on the train set is 78,017 while the RMSE value on train set is higher at 82,756. This means that the predictor (which is derived on train set's data) works worse on the test set, which is to be expected."
   ]
  },
  {
   "cell_type": "code",
   "execution_count": null,
   "id": "09b593aa",
   "metadata": {},
   "outputs": [],
   "source": [
    "# Kaggle submission\n",
    "sub_reg = pd.read_csv(\"../datasets/sample_sub_reg.csv\")\n",
    "sub_reg['SalePrice'] = np.mean(y)\n",
    "sub_reg.to_csv('../datasets/model_1.csv', index = False)"
   ]
  },
  {
   "cell_type": "code",
   "execution_count": null,
   "id": "9e951dff",
   "metadata": {},
   "outputs": [],
   "source": [
    "pd.read_csv(\"../datasets/model_1.csv\").shape"
   ]
  },
  {
   "cell_type": "markdown",
   "id": "77055fa0",
   "metadata": {},
   "source": [
    "### Start performance tracking table "
   ]
  },
  {
   "cell_type": "markdown",
   "id": "b53f06e9",
   "metadata": {},
   "source": [
    "\n",
    "| Model | Description | R2 (train) |  RMSE (train) | R2 (test) |  RMSE (test) | RMSE (Kaggle) |\n",
    "|-------|-------------|------------|---------------|-----------|--------------|---------------|\n",
    "| Baseline | Use the mean of train set's sale prices as predictor | 0.00 | 78,017 | -0.00 | 82,756 | 83,691 |"
   ]
  },
  {
   "cell_type": "markdown",
   "id": "076c3227",
   "metadata": {},
   "source": [
    "The mean sale price is $181,591. The RMSE is around 80k, which is approximately half the mean sale price, which shows that it is quite a bad predictor."
   ]
  },
  {
   "cell_type": "markdown",
   "id": "49c921a6",
   "metadata": {},
   "source": [
    "## Basic regression models"
   ]
  },
  {
   "cell_type": "markdown",
   "id": "1897a717",
   "metadata": {},
   "source": [
    "### Scale X variables"
   ]
  },
  {
   "cell_type": "markdown",
   "id": "f32a1794",
   "metadata": {},
   "source": [
    "As I will be using Lasso and Ridge regression in addition to standard linear regression, I need to scale all my numerical variables that are not dummies so that the regularisation optimiser can make an apples-to-apples comparison between different variables."
   ]
  },
  {
   "cell_type": "code",
   "execution_count": null,
   "id": "19b14358",
   "metadata": {},
   "outputs": [],
   "source": [
    "# Instantiate StandardScaler\n",
    "ss = StandardScaler()\n",
    "\n",
    "# Select non-dummy columns that are numerical\n",
    "numerical_cols = X_train.max() != 1\n",
    "\n",
    "# Create X_train scaled variables and merge with dummies\n",
    "numeric = X_train.loc[: , numerical_cols]\n",
    "dummy = X_train.loc[: , -numerical_cols]\n",
    "\n",
    "Z_train = pd.merge(\n",
    "    left = dummy.reset_index(drop = True),\n",
    "    right = pd.DataFrame(ss.fit_transform(numeric), columns = numeric.columns),\n",
    "    left_index = True,\n",
    "    right_index = True\n",
    ")\n",
    "\n",
    "\n",
    "# Create X_test scaled variables and merge with dummies, \n",
    "# but fit on X_train parameters\n",
    "numeric = X_test.loc[: , numerical_cols]\n",
    "dummy = X_test.loc[: , -numerical_cols]\n",
    "\n",
    "Z_test = pd.merge(\n",
    "    left = dummy.reset_index(drop = True),\n",
    "    right = pd.DataFrame(ss.transform(numeric), columns = numeric.columns), #do not use fit_transform\n",
    "    left_index = True,\n",
    "    right_index = True\n",
    ")\n",
    "\n",
    "# For use on Kaggle competition set, create Z that is fitted and transformed on the full X set\n",
    "numeric = X.loc[: , numerical_cols]\n",
    "dummy = X.loc[: , -numerical_cols]\n",
    "\n",
    "Z = pd.merge(\n",
    "    left = dummy.reset_index(drop = True),\n",
    "    right = pd.DataFrame(ss.fit_transform(numeric), columns = numeric.columns),\n",
    "    left_index = True,\n",
    "    right_index = True\n",
    ")\n",
    "\n",
    "# Use fitted scaler above to transform Kaggle competition set\n",
    "numeric = df_test.loc[: , numerical_cols]\n",
    "dummy = df_test.loc[: , -numerical_cols]\n",
    "\n",
    "Z_kaggle = pd.merge(\n",
    "    left = dummy.reset_index(drop = True),\n",
    "    right = pd.DataFrame(ss.transform(numeric), columns = numeric.columns), #do not use fit_transform\n",
    "    left_index = True,\n",
    "    right_index = True\n",
    ")"
   ]
  },
  {
   "cell_type": "code",
   "execution_count": null,
   "id": "07479a98",
   "metadata": {},
   "outputs": [],
   "source": [
    "# Set all columns to max to check that scaling and merging work as expected\n",
    "pd.set_option('max_columns', None)"
   ]
  },
  {
   "cell_type": "code",
   "execution_count": null,
   "id": "ed7fd186",
   "metadata": {},
   "outputs": [],
   "source": [
    "# Check train set \n",
    "Z_train.describe()"
   ]
  },
  {
   "cell_type": "code",
   "execution_count": null,
   "id": "55d00a5e",
   "metadata": {},
   "outputs": [],
   "source": [
    "# Check test set\n",
    "Z_test.describe()"
   ]
  },
  {
   "cell_type": "markdown",
   "id": "d4b53e96",
   "metadata": {},
   "source": [
    "### Standard regression (on X)\n",
    "The basis model has the following features:\n",
    "- It is fitted on 1 target variable (sales price) and 28 independent variables\n",
    "- Because of dummy variables, the baseline house is one that:\n",
    "    - Has gravel road acces\n",
    "    - Located in Old Town\n",
    "    - Normal proximity to external conditions (such as railroad, parks)\n",
    "    - Masonry veneer that is not brick face or stone\n",
    "    - Foundation that is not poured concrete\n",
    "    - Does not have central air conditioning\n",
    "    - Does not have standar circuit breakers\n",
    "    - Does not have typical functionality\n",
    "    - Does not have paved driveway\n",
    "    - Sale type is not warranty deed\n",
    " "
   ]
  },
  {
   "cell_type": "code",
   "execution_count": null,
   "id": "5a1eea1a",
   "metadata": {},
   "outputs": [],
   "source": [
    "# Instantiate model\n",
    "lr = LinearRegression()\n",
    "\n",
    "# Fit Model\n",
    "%timeit lr.fit(X_train, y_train)"
   ]
  },
  {
   "cell_type": "code",
   "execution_count": null,
   "id": "a4b8c389",
   "metadata": {},
   "outputs": [],
   "source": [
    "# Cross_val_score (R2) on train set\n",
    "cross_val_score(\n",
    "    lr,\n",
    "    X_train,\n",
    "    y_train,\n",
    "    cv = 5,\n",
    "    scoring = 'r2'\n",
    ").mean()"
   ]
  },
  {
   "cell_type": "code",
   "execution_count": null,
   "id": "97d498c7",
   "metadata": {},
   "outputs": [],
   "source": [
    "# Cross_val_score (RMSE) on train set\n",
    "cross_val_score(\n",
    "    lr,\n",
    "    X_train,\n",
    "    y_train,\n",
    "    cv = 5,\n",
    "    scoring = 'neg_root_mean_squared_error'\n",
    ").mean()"
   ]
  },
  {
   "cell_type": "code",
   "execution_count": null,
   "id": "4017969b",
   "metadata": {},
   "outputs": [],
   "source": [
    "# R2 on test set\n",
    "r2_score(y_test, lr.predict(X_test))"
   ]
  },
  {
   "cell_type": "code",
   "execution_count": null,
   "id": "710bda00",
   "metadata": {},
   "outputs": [],
   "source": [
    "# R2 on test set\n",
    "np.sqrt(mean_squared_error(y_test, lr.predict(X_test)))"
   ]
  },
  {
   "cell_type": "code",
   "execution_count": null,
   "id": "cdf0b994",
   "metadata": {},
   "outputs": [],
   "source": [
    "# Submit Kaggle competition set\n",
    "\n",
    "# Fit model on combined train and test sets\n",
    "lr.fit(X, y)\n",
    "\n",
    "# Predict sale prices based on Kaggle competition set\n",
    "y_pred = lr.predict(df_test)\n",
    "sub_reg['SalePrice'] = y_pred\n",
    "sub_reg.to_csv('../datasets/model_2.csv', index = False)"
   ]
  },
  {
   "cell_type": "code",
   "execution_count": null,
   "id": "7a78f14c",
   "metadata": {},
   "outputs": [],
   "source": [
    "# Plot |coefficients| > 5_000\n",
    "threshold = 5_000\n",
    "lr_coef = pd.DataFrame(lr.coef_, index = X.columns, columns = [\"coef\"])\n",
    "lr_coef = lr_coef.loc[np.abs(lr_coef.coef) > threshold, :].sort_values(by=['coef'], ascending = False)\n",
    "\n",
    "plt.figure(figsize=(15,10))\n",
    "sns.barplot(data = lr_coef, x = \"coef\", y = lr_coef.index);"
   ]
  },
  {
   "cell_type": "markdown",
   "id": "658a575c",
   "metadata": {},
   "source": [
    "Update performance table\n",
    "\n",
    "| Model | Description | R2 (train) |  RMSE (train) | R2 (test) |  RMSE (test) | RMSE (Kaggle) |Runtime | Remarks |\n",
    "|-------|-------------|------------|---------------|-----------|--------------|---------------|--------|---------|\n",
    "| Baseline | Use the mean of train set's sale prices as predictor | 0.00 | 78,017 | -0.00 | 82,756 | 83,691 | 33 µs | The mean sales price is $181,591 |\n",
    "| Standard regression | OLS on the 28 chosen variables | 0.89 | 25,808 | 0.89 | 27,012 | 35,820 | 4.81 ms | |"
   ]
  },
  {
   "cell_type": "markdown",
   "id": "89566954",
   "metadata": {},
   "source": [
    "__Summary__\n",
    "\n",
    "As expected, the RMSE of the test set is higher than that of the train set.\n",
    "We see a marked improvement over the baseline model, where RMSE of the test set dropped from 82,756 to 27,012.\n",
    "Neighborhoods seem to be the largest predictor of prices, followed by these variables in descending order of importance:\n",
    "- whether a house is new (sale_type_New)\n",
    "- whether the house is located near positive externalities such as parks and gardens (condition_1_Pos)\n",
    "- whether where the house has typical functionalities (functional)\t \n",
    "- externality quality of house (exter_qual)\n",
    "- overall quality of house (overall_qual)"
   ]
  },
  {
   "cell_type": "markdown",
   "id": "ce673d6b",
   "metadata": {},
   "source": [
    "### Lasso regression"
   ]
  },
  {
   "cell_type": "code",
   "execution_count": null,
   "id": "5576f189",
   "metadata": {},
   "outputs": [],
   "source": [
    "# Instantiate\n",
    "lasso = LassoCV(\n",
    "    n_alphas = 500,\n",
    "    cv = 5,\n",
    "    random_state = 42\n",
    ")\n",
    "\n",
    "# Fit using scaled variables Z_train\n",
    "%timeit lasso.fit(Z_train, y_train)\n",
    "\n",
    "# Show optimal alpha\n",
    "print(f'The optimal alpha for {lasso} is {lasso.alpha_:.1f}.')\n",
    "\n",
    "# Cross_val_score (R2) on train set\n",
    "cv = cross_val_score(\n",
    "    lasso,\n",
    "    Z_train,\n",
    "    y_train,\n",
    "    cv = 5,\n",
    "    scoring = 'r2'\n",
    ")\n",
    "print(f\"The LassoCV's R2 on train set is {cv.mean():.3f}.\")\n",
    "\n",
    "# Cross_val_score (RMSE) on train set\n",
    "cv = cross_val_score(\n",
    "    lasso,\n",
    "    Z_train,\n",
    "    y_train,\n",
    "    cv = 5,\n",
    "    scoring = 'neg_root_mean_squared_error'\n",
    ")\n",
    "print(f\"The LassoCV's RMSE on train set is {cv.mean():.0f}.\")\n",
    "\n",
    "# R2 on test set\n",
    "print(f'The R2 on test set is {r2_score(y_test, lasso.predict(Z_test)):.3f}.')\n",
    "\n",
    "# RMSE on test set\n",
    "print(f'The RMSE on test set is {np.sqrt(mean_squared_error(y_test, lasso.predict(Z_test))):.0f}.')"
   ]
  },
  {
   "cell_type": "code",
   "execution_count": null,
   "id": "e33f91ad",
   "metadata": {},
   "outputs": [],
   "source": [
    "# Submit Kaggle competition set\n",
    "\n",
    "# Fit model on combined train and test sets\n",
    "lasso.fit(Z, y)\n",
    "\n",
    "# Predict sale prices based on Kaggle competition set\n",
    "y_pred = lasso.predict(Z_kaggle)\n",
    "sub_reg['SalePrice'] = y_pred\n",
    "sub_reg.to_csv('../datasets/model_3.csv', index = False)"
   ]
  },
  {
   "cell_type": "code",
   "execution_count": null,
   "id": "08fd1c1e",
   "metadata": {},
   "outputs": [],
   "source": [
    "# Plot |coefficients| > 5_000\n",
    "threshold = 5_000\n",
    "lasso_coef = pd.DataFrame(lasso.coef_, index = Z.columns, columns = [\"coef\"])\n",
    "lasso_coef = lasso_coef.loc[np.abs(lasso_coef.coef) > threshold, :].sort_values(by=['coef'], ascending = False)\n",
    "\n",
    "plt.figure(figsize=(15,10))\n",
    "sns.barplot(data = lasso_coef, x = \"coef\", y = lasso_coef.index);"
   ]
  },
  {
   "cell_type": "markdown",
   "id": "55f36471",
   "metadata": {},
   "source": [
    "Update performance table\n",
    "\n",
    "| S/N | Model | Description | R2 (train) |  RMSE (train) | R2 (test) |  RMSE (test) | RMSE (Kaggle) |Runtime | Remarks |\n",
    "|-----|-------|-------------|------------|---------------|-----------|--------------|---------------|--------|---------|\n",
    "| 1 | Baseline | Use the mean of train set's sale prices as predictor | 0.00 | 78,017 | -0.00 | 82,756 | 83,691 | 33 µs | The mean sales price is $181,591 |\n",
    "| 2 | Standard regression | OLS on the 28 chosen variables | 0.89 | 25,808 | 0.89 | 27,012 | 35,820 | 4.81 ms | |\n",
    "| 3| Lasso regression | Same variables as above, using its CV function to find optimal alpha | 0.89 | 25,926 | 0.89 | 27,127 | 32,049 | 245 ms | Selected alpha is 62.7 |\n"
   ]
  },
  {
   "cell_type": "markdown",
   "id": "327927ad",
   "metadata": {},
   "source": [
    "Surprisingly, the Lasso regression scores slightly worse off than the standard OLS regression, as the RMSEs for both train and test sets are marginally higher. This is possibly due to the fact that our basic OLS regression is well-specificed, meaning that the variables we use are not superfluous, or that scaling/normalising our X variables to run the Lasso might be inappropriate if the underlying X variables are actually not normal by nature.\n",
    "\n",
    "\n",
    "Neighborhoods seem to be the largest predictor of prices like standard OLS (Model 2), but the next few important variables are quite different from Model 2's, in decreasing order of importance (those in italics are new):\n",
    "- _gross living area (gr_liv_area)_\n",
    "- whether a house is new (sale_type_New)\n",
    "- ~whether the house is located near positive externalities such as parks and gardens (condition_1_Pos)~\n",
    "- ~whether where the house has typical functionalities (functional)~\n",
    "- ~externality quality of house (exter_qual)~\n",
    "- overall quality of house (overall_qual)\n",
    "- whether the house is located near positive externalities such as parks and gardens (condition_1_Pos)\n",
    "- whether where the house has typical functionalities (functional)\n",
    "- _basement finished square feet (bsmtfin_sf_1)_\n",
    "- externality quality of house (exter_qual)"
   ]
  },
  {
   "cell_type": "markdown",
   "id": "0cd395f1",
   "metadata": {},
   "source": [
    "### Ridge regression"
   ]
  },
  {
   "cell_type": "code",
   "execution_count": null,
   "id": "f818d4c3",
   "metadata": {},
   "outputs": [],
   "source": [
    "# Instantiate\n",
    "ridge = RidgeCV(\n",
    "    alphas = np.logspace(-3,3,100),\n",
    "    cv = 5\n",
    ")\n",
    "\n",
    "# Fit using scaled variables Z_train\n",
    "%timeit ridge.fit(Z_train, y_train)\n",
    "\n",
    "# Show optimal alpha\n",
    "print(f'The optimal alpha for {ridge} is {ridge.alpha_:.3f}.')\n",
    "\n",
    "# Cross_val_score (R2) on train set\n",
    "cv = cross_val_score(\n",
    "    ridge,\n",
    "    Z_train,\n",
    "    y_train,\n",
    "    cv = 5,\n",
    "    scoring = 'r2'\n",
    ")\n",
    "print(f\"The RidgeCV's R2 on train set is {cv.mean():.3f}.\")\n",
    "\n",
    "# Cross_val_score (RMSE) on train set\n",
    "cv = cross_val_score(\n",
    "    ridge,\n",
    "    Z_train,\n",
    "    y_train,\n",
    "    cv = 5,\n",
    "    scoring = 'neg_root_mean_squared_error'\n",
    ")\n",
    "print(f\"The RidgeCV's RMSE on train set is {cv.mean():.0f}.\")\n",
    "\n",
    "# R2 on test set\n",
    "print(f'The R2 on test set is {r2_score(y_test, ridge.predict(Z_test)):.3f}.')\n",
    "\n",
    "# RMSE on test set\n",
    "print(f'The RMSE on test set is {np.sqrt(mean_squared_error(y_test, ridge.predict(Z_test))):.0f}.')"
   ]
  },
  {
   "cell_type": "code",
   "execution_count": null,
   "id": "9f8cba43",
   "metadata": {},
   "outputs": [],
   "source": [
    "# Submit Kaggle competition set\n",
    "\n",
    "# Fit model on combined train and test sets\n",
    "ridge.fit(Z, y)\n",
    "\n",
    "# Predict sale prices based on Kaggle competition set\n",
    "y_pred = ridge.predict(Z_kaggle)\n",
    "sub_reg['SalePrice'] = y_pred\n",
    "sub_reg.to_csv('../datasets/model_4.csv', index = False)"
   ]
  },
  {
   "cell_type": "code",
   "execution_count": null,
   "id": "070e0dbd",
   "metadata": {},
   "outputs": [],
   "source": [
    "# Plot |coefficients| > 5_000\n",
    "threshold = 5_000\n",
    "ridge_coef = pd.DataFrame(ridge.coef_, index = Z.columns, columns = [\"coef\"])\n",
    "ridge_coef = ridge_coef.loc[np.abs(ridge_coef.coef) > threshold, :].sort_values(by=['coef'], ascending = False)\n",
    "\n",
    "plt.figure(figsize=(15,10))\n",
    "sns.barplot(data = ridge_coef, x = \"coef\", y = ridge_coef.index);"
   ]
  },
  {
   "cell_type": "markdown",
   "id": "ce155c27",
   "metadata": {},
   "source": [
    "Update performance table\n",
    "\n",
    "| S/N | Model | Description | R2 (train) |  RMSE (train) | R2 (test) |  RMSE (test) | RMSE (Kaggle) |Runtime | Remarks |\n",
    "|-----|-------|-------------|------------|---------------|-----------|--------------|---------------|--------|---------|\n",
    "| 1 | Baseline | Use the mean of train set's sale prices as predictor | 0.00 | 78,017 | -0.00 | 82,756 | 83,691 | 33 µs | The mean sales price is $181,591 |\n",
    "| 2 | Standard regression | OLS on the 28 chosen variables | 0.89 | 25,808 | 0.89 | 27,012 | 35,820 | 4.81 ms | |\n",
    "| 3| Lasso regression | Same variables as above, using its CV function to find optimal alpha | 0.89 | 25,926 | 0.89 | 27,127 | 32,049 | 245 ms | Selected alpha is 62.7 |\n",
    "| 4 | Ridge regression | Same variables as above, using its CV function to find optimal alpha | 0.89 | 25,907 | 0.89 | 27,005 | 35,332 | 2.34 s | Set alpha range to be between 0.001 to 1000, selected alpha is 0.132 |\n",
    "\n",
    "\n"
   ]
  },
  {
   "cell_type": "markdown",
   "id": "3eed0f60",
   "metadata": {},
   "source": [
    "Ridge regression scores marginally worse than standard OLS in the train set, and marginally better than standard OLS in the test set. The fact that the optimal alpha is a small value of 0.132 also means that the coefficients from the standard OLS do not need much compression, i.e. they could already be significant. \n",
    "\n",
    "The variables of importance are quite similar to that of Lasso regression's, with one reordering between condition_1_Pos and overall_qual:\n",
    "- gross living area (gr_liv_area)\n",
    "- whether a house is new (sale_type_New)\n",
    "- ~overall quality of house (overall_qual)~\n",
    "- whether the house is located near positive externalities such as parks and gardens (condition_1_Pos)\n",
    "- overall quality of house (overall_qual)\n",
    "- whether where the house has typical functionalities (functional)\n",
    "- basement finished square feet (bsmtfin_sf_1)\n",
    "- externality quality of house (exter_qual)"
   ]
  },
  {
   "cell_type": "markdown",
   "id": "bc7d91c3",
   "metadata": {},
   "source": [
    "## Feature engineering (4th round)"
   ]
  },
  {
   "cell_type": "markdown",
   "id": "3ec7e501",
   "metadata": {},
   "source": [
    "### Log/sqrt sale price & other variables\n",
    "I am a bit puzzled by the negligible improvements of Lasso and Ridge over the standard OLS. One difference between Models 3 and 4 versus Model 2 is the scaling of X variables that are non-dummies. Perhaps scaling does not work as well if the distributions are skewed, as you might be deducting an overly-large mean or dividing by an overly-large standard deviation value from the datapoint if the distribution is very right-skewed.\n",
    "I shall transform some variables to see if this improves model performance."
   ]
  },
  {
   "cell_type": "code",
   "execution_count": null,
   "id": "7ef80013",
   "metadata": {},
   "outputs": [],
   "source": [
    "# Looks at numerical columns again\n",
    "to_check = ['lot_frontage_imputed', 'mas_vnr_area', 'bsmtfin_sf_1', 'total_bsmt_sf', 'gr_liv_area', \n",
    " 'garage_area', 'wood_deck_sf', 'open_porch_sf', 'saleprice']\n",
    "\n",
    "fig, axes = plt.subplots(3, 3, figsize=(20, 20))\n",
    "\n",
    "fig.suptitle('Histogram Plot of Numerical Variables')\n",
    "\n",
    "for i, axes in zip(to_check, axes.flat):\n",
    "    sns.histplot(\n",
    "        ax=axes, \n",
    "        data = df_train, \n",
    "        x = i, \n",
    "        kde = True\n",
    "    )"
   ]
  },
  {
   "cell_type": "markdown",
   "id": "2e1b2860",
   "metadata": {},
   "source": [
    "It looks like the variables have a right-skewed distribution, some worse than the others, e.g. mas_vnr_area, bsmtfin_sf_1, wood_deck_sf, saleprice.\n",
    "So it might be better to transform them using natural log or square root so that the resulting plot is more linear in nature and more suitable for a linear regression."
   ]
  },
  {
   "cell_type": "code",
   "execution_count": null,
   "id": "07c416f5",
   "metadata": {
    "scrolled": false
   },
   "outputs": [],
   "source": [
    "# Plot with X variables transformed by natural log\n",
    "\n",
    "fig, axes = plt.subplots(3, 3, figsize=(20, 20))\n",
    "\n",
    "fig.suptitle('Histogram Plot of Numerical Variables')\n",
    "\n",
    "for i, axes in zip(to_check, axes.flat):\n",
    "    sns.histplot(\n",
    "        ax=axes, \n",
    "        data = df_train[to_check].apply(lambda x: np.log(x+1)), \n",
    "        x = i, \n",
    "        kde = True\n",
    "    )"
   ]
  },
  {
   "cell_type": "code",
   "execution_count": null,
   "id": "3fac88a9",
   "metadata": {},
   "outputs": [],
   "source": [
    "# Plot with X variables transformed by square root\n",
    "\n",
    "fig, axes = plt.subplots(3, 3, figsize=(20, 20))\n",
    "\n",
    "fig.suptitle('Histogram Plot of Numerical Variables')\n",
    "\n",
    "for i, axes in zip(to_check, axes.flat):\n",
    "    sns.histplot(\n",
    "        ax=axes, \n",
    "        data = df_train[to_check].apply(lambda x: np.sqrt(x)), \n",
    "        x = i, \n",
    "        kde = True\n",
    "    )"
   ]
  },
  {
   "cell_type": "markdown",
   "id": "0d0671cc",
   "metadata": {},
   "source": [
    "Using eye power, it seems like applying np.log and np.sqrt make all the 9 distributions \"look\" more like a normal distribution, but some transformations seem to work better for some variables, e.g.:\n",
    "- sqrt did not work for open_porch_sf, log is better\n",
    "- log did not work for bsmtfin_sf_1, sqrt works better\n",
    "\n",
    "Here are my selected transformations for continuous variables\n",
    "\n",
    "| Variable | Transformation | \n",
    "|----------|----------------|\n",
    "| lot_frontage_imputed | Natural Log |\n",
    "| mas_vnr_area | Natural Log  |\n",
    "| bsmtfin_sf_1 | Square Root |\n",
    "| total_bsmt_sf | Square Root |\n",
    "| gr_liv_area | Natural Log |\n",
    "| garage_area | Square Root |\n",
    "| wood_deck_sf | Natural Log |\n",
    "| open_porch_sf | Natural Log |\n",
    "| saleprice | Natural Log |\n",
    "\n",
    "\n"
   ]
  },
  {
   "cell_type": "code",
   "execution_count": null,
   "id": "a3bcfb88",
   "metadata": {},
   "outputs": [],
   "source": [
    "# Transform time!\n",
    "to_log = ['lot_frontage_imputed', 'mas_vnr_area', 'gr_liv_area', 'wood_deck_sf', 'open_porch_sf']\n",
    "to_sqrt = ['bsmtfin_sf_1', 'total_bsmt_sf', 'garage_area']\n",
    "\n",
    "# Create transformer function\n",
    "def transform_log_sqrt(data):\n",
    "    for _ in data.columns:\n",
    "        if _ in to_log:\n",
    "            data[_] = data[_].map(lambda x: np.log(x+1))\n",
    "        if _ in to_sqrt:\n",
    "            data[_] = data[_].map(lambda x: np.sqrt(x))\n",
    "\n",
    "y2 = df_train.saleprice\n",
    "X2 = df_train.drop(columns = [\"saleprice\"])\n",
    "            \n",
    "# Train-test-split for new set of transformed variables\n",
    "X2_train, X2_test, y2_train, y2_test = train_test_split(X2, y2, random_state = 42)\n",
    "            \n",
    "transform_log_sqrt(X2_train)\n",
    "transform_log_sqrt(X2_test)\n",
    "\n",
    "\n",
    "## Transform full set to use for Kaggle training and submission\n",
    "transform_log_sqrt(X2) # for fitting model to do Kaggle prediction\n",
    "X2_kaggle = df_test \n",
    "transform_log_sqrt(X2_kaggle) # transform Kaggle competition set for prediction"
   ]
  },
  {
   "cell_type": "code",
   "execution_count": null,
   "id": "edcdba82",
   "metadata": {},
   "outputs": [],
   "source": [
    "# Need to transform y_test and y_train too\n",
    "y2_train = np.log(y2_train)\n",
    "y2_test = np.log(y2_test)\n",
    "y2 = np.log(y2)"
   ]
  },
  {
   "cell_type": "code",
   "execution_count": null,
   "id": "58182e2c",
   "metadata": {},
   "outputs": [],
   "source": [
    "# Check\n",
    "display(X_train[to_log])\n",
    "display(X2_train[to_log])\n",
    "display(y_test)\n",
    "display(y2_test)"
   ]
  },
  {
   "cell_type": "code",
   "execution_count": null,
   "id": "dab48d78",
   "metadata": {},
   "outputs": [],
   "source": [
    "# Apply standard scaler in order to fit Lasso and Ridge regressions later\n",
    "\n",
    "# Create X_train scaled variables and merge with dummies\n",
    "numeric = X2_train.loc[: , numerical_cols]\n",
    "dummy = X2_train.loc[: , -numerical_cols]\n",
    "\n",
    "Z2_train = pd.merge(\n",
    "    left = dummy.reset_index(drop = True),\n",
    "    right = pd.DataFrame(ss.fit_transform(numeric), columns = numeric.columns),\n",
    "    left_index = True,\n",
    "    right_index = True\n",
    ")\n",
    "\n",
    "\n",
    "# Create X_test scaled variables and merge with dummies, \n",
    "# but fit on X_train parameters\n",
    "numeric = X2_test.loc[: , numerical_cols]\n",
    "dummy = X2_test.loc[: , -numerical_cols]\n",
    "\n",
    "Z2_test = pd.merge(\n",
    "    left = dummy.reset_index(drop = True),\n",
    "    right = pd.DataFrame(ss.transform(numeric), columns = numeric.columns), # do not use fit_transform\n",
    "    left_index = True,\n",
    "    right_index = True\n",
    ")\n",
    "\n",
    "\n",
    "\n",
    "\n",
    "## For use on Kaggle competition set, create Z that is fitted and transformed on the full X set\n",
    "numeric = X2.loc[: , numerical_cols]\n",
    "dummy = X2.loc[: , -numerical_cols]\n",
    "\n",
    "Z2 = pd.merge(\n",
    "    left = dummy.reset_index(drop = True),\n",
    "    right = pd.DataFrame(ss.fit_transform(numeric), columns = numeric.columns),\n",
    "    left_index = True,\n",
    "    right_index = True\n",
    ")\n",
    "\n",
    "# Use fitted scaler above to transform Kaggle competition set\n",
    "numeric = X2_kaggle.loc[: , numerical_cols]\n",
    "dummy = X2_kaggle.loc[: , -numerical_cols]\n",
    "\n",
    "Z2_kaggle = pd.merge(\n",
    "    left = dummy.reset_index(drop = True),\n",
    "    right = pd.DataFrame(ss.transform(numeric), columns = numeric.columns), # do not use fit_transform\n",
    "    left_index = True,\n",
    "    right_index = True\n",
    ")"
   ]
  },
  {
   "cell_type": "code",
   "execution_count": null,
   "id": "60a900d9",
   "metadata": {},
   "outputs": [],
   "source": [
    "# Check\n",
    "display(Z2_train)\n",
    "display(X2_train)"
   ]
  },
  {
   "cell_type": "markdown",
   "id": "fe9ea565",
   "metadata": {},
   "source": [
    "#### Standard regression (on X2)"
   ]
  },
  {
   "cell_type": "code",
   "execution_count": null,
   "id": "d72d3e5f",
   "metadata": {},
   "outputs": [],
   "source": [
    "# Instantiate model\n",
    "lr = LinearRegression()\n",
    "\n",
    "# Fit Model\n",
    "%timeit lr.fit(X2_train, y2_train)\n",
    "\n",
    "# Cross_val_score (R2) on train set\n",
    "cv = cross_val_score(\n",
    "    lr,\n",
    "    X2_train,\n",
    "    y2_train,\n",
    "    cv = 5,\n",
    "    scoring = 'r2'\n",
    ")\n",
    "print(f\"The standard regression's R2 on train set is {cv.mean():.3f}.\")\n",
    "\n",
    "# # Cross_val_score (RMSE) on train set\n",
    "# cv = cross_val_score(\n",
    "#     lr,\n",
    "#     X_train2,\n",
    "#     y_train2,\n",
    "#     cv = 5,\n",
    "#     scoring = 'neg_root_mean_squared_error'\n",
    "# )\n",
    "# print(f\"The standard regression's RMSE on train set is {cv.mean():.0f}.\")\n",
    "\n",
    "# Cross_val_score can only calculate the RMSE on the transformed log-price, which gives\n",
    "# a very miniscule RMSE since logs are small numbers. \n",
    "# No choice, use standard RMSE calculation on the entire train set\n",
    "y_pred = np.exp(lr.predict(X2_train)) -1\n",
    "print(f\"The standard regression's RMSE on train set is {np.sqrt(mean_squared_error(y_train, y_pred)):.0f}.\")\n",
    "\n",
    "# R2 on test set\n",
    "y_pred = np.exp(lr.predict(X2_test)) -1\n",
    "print(f'The R2 on test set is {r2_score(y_test, y_pred):.3f}.')\n",
    "\n",
    "# RMSE on test set\n",
    "# Remember to re-transform the predicted log(prices) back to normal prices\n",
    "print(f'The RMSE on test set is {np.sqrt(mean_squared_error(y_test, y_pred)):.0f}.')"
   ]
  },
  {
   "cell_type": "code",
   "execution_count": null,
   "id": "0783d087",
   "metadata": {},
   "outputs": [],
   "source": [
    "# Submit Kaggle competition set\n",
    "\n",
    "# Fit model on combined train and test sets\n",
    "lr.fit(X2, y2)\n",
    "\n",
    "# Predict sale prices based on Kaggle competition set\n",
    "y_pred = np.exp(lr.predict(X2_kaggle)) -1\n",
    "sub_reg['SalePrice'] = y_pred\n",
    "sub_reg.to_csv('../datasets/model_5.csv', index = False)"
   ]
  },
  {
   "cell_type": "code",
   "execution_count": null,
   "id": "5fe519a8",
   "metadata": {},
   "outputs": [],
   "source": [
    "# Plot |coefficients| > 0.05\n",
    "threshold = 0.05\n",
    "lr_coef = pd.DataFrame(lr.coef_, index = X2.columns, columns = [\"coef\"])\n",
    "lr_coef = lr_coef.loc[np.abs(lr_coef.coef) > threshold, :].sort_values(by=['coef'], ascending = False)\n",
    "\n",
    "plt.figure(figsize=(15,10))\n",
    "sns.barplot(data = lr_coef, x = \"coef\", y = lr_coef.index);"
   ]
  },
  {
   "cell_type": "markdown",
   "id": "0d43faf0",
   "metadata": {},
   "source": [
    "Update performance table\n",
    "\n",
    "| S/N | Model | Description | R2 (train) |  RMSE (train) | R2 (test) |  RMSE (test) | RMSE (Kaggle) |Runtime | Remarks |\n",
    "|-----|-------|-------------|------------|---------------|-----------|--------------|---------------|--------|---------|\n",
    "| 1 | Baseline | Use the mean of train set's sale prices as predictor | 0.00 | 78,017 | -0.00 | 82,756 | 83,691 | 33 µs | The mean sales price is $181,591 |\n",
    "| | | | | | | | | | |\n",
    "| 2 | Standard regression | OLS on the 28 chosen variables | 0.89 | 25,808 | 0.89 | 27,012 | 35,820 | 4.81 ms | |\n",
    "| 3| Lasso regression | Same variables as above, using its CV function to find optimal alpha | 0.89 | 25,926 | 0.89 | 27,127 | 32,049 | 245 ms | Selected alpha is 62.7 |\n",
    "| 4 | Ridge regression | Same variables as above, using its CV function to find optimal alpha | 0.89 | 25,907 | 0.89 | 27,005 | 35,332 | 2.34 s | Set alpha range to be between 0.001 to 1000, selected alpha is 0.132 |\n",
    "| | | | | | | | | | |\n",
    "| 5 | Standard regression | Selected variables, including sale price, are log- and sqrt- transformed | 0.89 | 22,219 | 0.92 | 23,963 | 34,139 | 3.71 ms | |\n",
    "\n",
    "\n"
   ]
  },
  {
   "cell_type": "markdown",
   "id": "6b83a1a4",
   "metadata": {},
   "source": [
    "Shows a marked improvement over Models 2-4 in the test and train sets. This means that the continuous variables, after transformation, exhibit a more linear relationship with house sale prices (which was also transformed).\n",
    "\n",
    "For Kaggle competition set, Model 5 performs better Models 2 and 4, but is worse than Model 3. This might be a fluke, as Kaggle's competition set might be suitable for Lasso by chance."
   ]
  },
  {
   "cell_type": "markdown",
   "id": "84739570",
   "metadata": {},
   "source": [
    "#### Lasso regression"
   ]
  },
  {
   "cell_type": "code",
   "execution_count": null,
   "id": "a657f618",
   "metadata": {},
   "outputs": [],
   "source": [
    "# Instantiate\n",
    "lasso = LassoCV(\n",
    "    n_alphas = 500,\n",
    "    cv = 5,\n",
    "    random_state = 42\n",
    ")\n",
    "\n",
    "# Fit using scaled variables Z_train\n",
    "%timeit lasso.fit(Z2_train, y2_train)\n",
    "\n",
    "# Show optimal alpha\n",
    "print(f'The optimal alpha for {lasso} is {lasso.alpha_:.5f}.')\n",
    "\n",
    "# Cross_val_score (R2) on train set\n",
    "cv = cross_val_score(\n",
    "    lasso,\n",
    "    Z2_train,\n",
    "    y2_train,\n",
    "    cv = 5,\n",
    "    scoring = 'r2'\n",
    ")\n",
    "print(f\"The LassoCV's R2 on train set is {cv.mean():.3f}.\")\n",
    "\n",
    "# # Cross_val_score (RMSE) on train set\n",
    "# cv = cross_val_score(\n",
    "#     lasso,\n",
    "#     Z_train2,\n",
    "#     y_train2,\n",
    "#     cv = 5,\n",
    "#     scoring = 'neg_root_mean_squared_error'\n",
    "# )\n",
    "# print(f\"The LassoCV's RMSE on train set is {cv.mean():.0f}.\")\n",
    "\n",
    "# Calc RMSE on train set\n",
    "y_pred = np.exp(lasso.predict(Z2_train)) -1\n",
    "print(f\"The Lasso regression's RMSE on train set is {np.sqrt(mean_squared_error(y_train, y_pred)):.0f}.\")\n",
    "\n",
    "# R2 on test set\n",
    "y_pred = np.exp(lasso.predict(Z2_test)) -1\n",
    "print(f'The R2 on test set is {r2_score(y_test, y_pred):.3f}.')\n",
    "\n",
    "# RMSE on test set\n",
    "print(f'The RMSE on test set is {np.sqrt(mean_squared_error(y_test, y_pred)):.0f}.')"
   ]
  },
  {
   "cell_type": "code",
   "execution_count": null,
   "id": "19094cf2",
   "metadata": {},
   "outputs": [],
   "source": [
    "# Submit Kaggle competition set\n",
    "\n",
    "# Fit model on combined train and test sets\n",
    "lasso.fit(Z2, y2)\n",
    "\n",
    "# Predict sale prices based on Kaggle competition set\n",
    "y_pred = np.exp(lasso.predict(Z2_kaggle)) -1\n",
    "sub_reg['SalePrice'] = y_pred\n",
    "sub_reg.to_csv('../datasets/model_6.csv', index = False)"
   ]
  },
  {
   "cell_type": "code",
   "execution_count": null,
   "id": "406cb9e3",
   "metadata": {},
   "outputs": [],
   "source": [
    "# Plot |coefficients| > 0.025\n",
    "threshold = 0.025\n",
    "lasso_coef = pd.DataFrame(lasso.coef_, index = Z2.columns, columns = [\"coef\"])\n",
    "lasso_coef = lasso_coef.loc[np.abs(lasso_coef.coef) > threshold, :].sort_values(by=['coef'], ascending = False)\n",
    "\n",
    "plt.figure(figsize=(15,10))\n",
    "sns.barplot(data = lasso_coef, x = \"coef\", y = lasso_coef.index);"
   ]
  },
  {
   "cell_type": "code",
   "execution_count": null,
   "id": "6f3dd90b",
   "metadata": {},
   "outputs": [],
   "source": []
  },
  {
   "cell_type": "markdown",
   "id": "0471b12a",
   "metadata": {},
   "source": [
    "Update performance table\n",
    "\n",
    "| S/N | Model | Description | R2 (train) |  RMSE (train) | R2 (test) |  RMSE (test) | RMSE (Kaggle) |Runtime | Remarks |\n",
    "|-----|-------|-------------|------------|---------------|-----------|--------------|---------------|--------|---------|\n",
    "| 1 | Baseline | Use the mean of train set's sale prices as predictor | 0.00 | 78,017 | -0.00 | 82,756 | 83,691 | 33 µs | The mean sales price is $181,591 |\n",
    "| | | | | | | | | | |\n",
    "| 2 | Standard regression | OLS on the 28 chosen variables | 0.89 | 25,808 | 0.89 | 27,012 | 35,820 | 4.81 ms | |\n",
    "| 3| Lasso regression | Same variables as above, using its CV function to find optimal alpha | 0.89 | 25,926 | 0.89 | 27,127 | 32,049 | 245 ms | Selected alpha is 62.7 |\n",
    "| 4 | Ridge regression | Same variables as above, using its CV function to find optimal alpha | 0.89 | 25,907 | 0.89 | 27,005 | 35,332 | 2.34 s | Set alpha range to be between 0.001 to 1000, selected alpha is 0.132 |\n",
    "| | | | | | | | | | |\n",
    "| 5 | Standard regression | Selected variables, including sale price, are log- and sqrt- transformed | 0.89 | 22,219 | 0.92 | 23,963 | 34,139 | 3.71 ms | |\n",
    "| 6 | Lasso regression | Selected variables, including sale price, are log- and sqrt- transformed | 0.89 | 22,445 | 0.92 | 23,941 | 29,936 | 219 ms | Selected alpha is 0.00034 |"
   ]
  },
  {
   "cell_type": "markdown",
   "id": "c14fbf51",
   "metadata": {},
   "source": [
    "Lasso (Model 6) shows a slight improvement over standard (Model 5) on the test set. The optimal alpha selected by cross_val_score is 0.000034, which is much lower than the alpha of 62.7 selected for Model 2. This is probably not an error, if the Lasso think that Model 5 can't be optimised further.\n",
    "\n",
    "Interestingly, gross living area (gr_liv_area) is now the largest predictor of house prices, instead of neighborhoods. These are the top ranked variables, in descreasing order of importance:\n",
    "- gross living area (gr_liv_area)\n",
    "- \"good\" neighborhoods such as GmHill and Crawfor\n",
    "- overall quality of house (overall_qual)"
   ]
  },
  {
   "cell_type": "markdown",
   "id": "276b0d83",
   "metadata": {},
   "source": [
    "#### Ridge regression"
   ]
  },
  {
   "cell_type": "code",
   "execution_count": null,
   "id": "7f8746fa",
   "metadata": {},
   "outputs": [],
   "source": [
    "# Instantiate\n",
    "ridge = RidgeCV(\n",
    "    alphas = np.logspace(-3,3,100),\n",
    "    cv = 5\n",
    ")\n",
    "\n",
    "# Fit using scaled variables Z_train\n",
    "%timeit ridge.fit(Z2_train, y2_train)\n",
    "\n",
    "# Show optimal alpha\n",
    "print(f'The optimal alpha for {ridge} is {ridge.alpha_:.3f}.')\n",
    "\n",
    "# Cross_val_score (R2) on train set\n",
    "cv = cross_val_score(\n",
    "    ridge,\n",
    "    Z2_train,\n",
    "    y2_train,\n",
    "    cv = 5,\n",
    "    scoring = 'r2'\n",
    ")\n",
    "print(f\"The RidgeCV's R2 on train set is {cv.mean():.3f}.\")\n",
    "\n",
    "\n",
    "# Calc RMSE on train set, since the cross_val_score output on log-saleprice can't be tweaked to reflect exp(log-saleprice)\n",
    "y_pred = np.exp(ridge.predict(Z2_train)) -1\n",
    "print(f\"The Ridge regression's RMSE on train set is {np.sqrt(mean_squared_error(y_train, y_pred)):.0f}.\")\n",
    "\n",
    "# R2 on test set\n",
    "y_pred = np.exp(ridge.predict(Z2_test)) -1\n",
    "print(f'The R2 on test set is {r2_score(y_test, y_pred):.3f}.')\n",
    "\n",
    "# RMSE on test set\n",
    "print(f'The RMSE on test set is {np.sqrt(mean_squared_error(y_test, y_pred)):.0f}.')"
   ]
  },
  {
   "cell_type": "code",
   "execution_count": null,
   "id": "20a222aa",
   "metadata": {},
   "outputs": [],
   "source": []
  },
  {
   "cell_type": "code",
   "execution_count": null,
   "id": "f71ba96f",
   "metadata": {},
   "outputs": [],
   "source": [
    "# Submit Kaggle competition set\n",
    "\n",
    "# Fit model on combined train and test sets\n",
    "ridge.fit(Z2, y2)\n",
    "\n",
    "# Predict sale prices based on Kaggle competition set\n",
    "y_pred = np.exp(ridge.predict(Z2_kaggle)) -1\n",
    "sub_reg['SalePrice'] = y_pred\n",
    "sub_reg.to_csv('../datasets/model_7.csv', index = False)"
   ]
  },
  {
   "cell_type": "code",
   "execution_count": null,
   "id": "759021dd",
   "metadata": {},
   "outputs": [],
   "source": [
    "# Plot |coefficients| > 0.05\n",
    "threshold = 0.05\n",
    "ridge_coef = pd.DataFrame(ridge.coef_, index = Z2.columns, columns = [\"coef\"])\n",
    "ridge_coef = ridge_coef.loc[np.abs(ridge_coef.coef) > threshold, :].sort_values(by=['coef'], ascending = False)\n",
    "\n",
    "plt.figure(figsize=(15,10))\n",
    "sns.barplot(data = ridge_coef, x = \"coef\", y = ridge_coef.index);"
   ]
  },
  {
   "cell_type": "markdown",
   "id": "5190c757",
   "metadata": {},
   "source": [
    "Update performance table\n",
    "\n",
    "| S/N | Model | Description | R2 (train) |  RMSE (train) | R2 (test) |  RMSE (test) | RMSE (Kaggle) |Runtime | Remarks |\n",
    "|-----|-------|-------------|------------|---------------|-----------|--------------|---------------|--------|---------|\n",
    "| 1 | Baseline | Use the mean of train set's sale prices as predictor | 0.00 | 78,017 | -0.00 | 82,756 | 83,691 | 33 µs | The mean sales price is $181,591 |\n",
    "| | | | | | | | | | |\n",
    "| 2 | Standard regression | OLS on the 28 chosen variables | 0.89 | 25,808 | 0.89 | 27,012 | 35,820 | 4.81 ms | |\n",
    "| 3| Lasso regression | Same variables as above, using its CV function to find optimal alpha | 0.89 | 25,926 | 0.89 | 27,127 | 32,049 | 245 ms | Selected alpha is 62.7 |\n",
    "| 4 | Ridge regression | Same variables as above, using its CV function to find optimal alpha | 0.89 | 25,907 | 0.89 | 27,005 | 35,332 | 2.34 s | Set alpha range to be between 0.001 to 1000, selected alpha is 0.132 |\n",
    "| | | | | | | | | | |\n",
    "| 5 | Standard regression | Selected variables, including sale price, are log- and sqrt- transformed | 0.89 | 22,219 | 0.92 | 23,963 | 34,139 | 3.71 ms | |\n",
    "| 6 | Lasso regression | Same variables as Model 5, using its CV function to find optimal alpha  | 0.89 | 22,445 | 0.92 | 23,941 | 29,936 | 219 ms | Selected alpha is 0.00034 |\n",
    "| 7 | Ridge regression | Same variables as Model 5, using its CV function to find optimal alpha | 0.89 | 22,221 | 0.92 | 23,953 | 33,944 | 2.17 s | Set alpha range to be between 0.001 to 1000, selected alpha is 0.152 |"
   ]
  },
  {
   "cell_type": "markdown",
   "id": "775df70b",
   "metadata": {},
   "source": [
    "Ridge overperforms Lasso in the train set, but slightly underperforms Lasso in test and Kaggle competition sets. It also takes much longer than Lasso to run. At this moment, Model 6 is in the running for best candidate..."
   ]
  },
  {
   "cell_type": "markdown",
   "id": "97615682",
   "metadata": {},
   "source": [
    "### Ordinals\n",
    "In Models 2-6, ordinal variables are given discrete integers as values, in increasing order of desirability or quality. Assigning an arbitrary \"0-1-2-3\" scale to \"poor-average-good-excellent\" make a strong assumption that there is an equal distance or difference between the various qualities, which may not be true in real life. \n",
    "If our assumption is wrong, it is better to perform one-hot encoding on these variables. We let the model assume and fit a natural ordering between the categories of quality, but the disadvantage is that it may result in poor performance or unexpected results (e.g. if the data set is not large or robust enough, a fitted model may assume \"excellent\" is worse than \"good\". In such cases, telling the model what the natural ordered relationship should be will allow the learning algorithm to harness this relationship more efficiently.\n",
    "\n",
    "I shall perform one-hot encoding on our ordinal variables to test this assumption.\n",
    "\n",
    "__FROM DATA DICTIONARY__\n",
    "\n",
    "| No. | Feature | DType |  Description | Remarks |\n",
    "|-----|---------|------|-------------|---------|\n",
    "| 5 | overall_qual | integer | Rates the overall material and finish of the house | 1 (very poor) to 10 (very excellent) |\n",
    "| 7 | exter_qual | integer | Evaluates the quality of the material on the exterior | 0 (fair) to 3 (excellent) |\n",
    "| 9 | bsmt_qual | integer | Evaluates the height of the basement | 0 (none) to 5 (excellent) | **\n",
    "| 10 | bsmt_exposure | integer | Refers to walkout or garden level walls | 0 (none) to 4 (good exposure) |\n",
    "| 11 | heating_qc | integer | Heating quality and condition | 0 (poor) to 4 (excellent) |\n",
    "| 15 | fireplace_qu | integer | Fireplace quality | 0 (none) to 5 (excellent) | \n",
    "| 16 | garage_finish | integer | Interior finish of the garage | 0 (none) to 3 (finished) |\n"
   ]
  },
  {
   "cell_type": "code",
   "execution_count": null,
   "id": "f9ecb1cc",
   "metadata": {},
   "outputs": [],
   "source": [
    "# One-hot-encode ordinals\n",
    "to_convert = [\n",
    "    'overall_qual', 'exter_qual', 'bsmt_qual', \n",
    "    'bsmt_exposure', 'heating_qc', 'fireplace_qu',\n",
    "    'garage_finish'\n",
    "]\n",
    "\n",
    "# Check no categories are missing in the test or Kaggle competition set\n",
    "for _ in to_convert:\n",
    "    if len(X2_train[_].unique()) != len(X2_test[_].unique()):\n",
    "        print(f\"Train set's {_} does not match test set's!!\")\n",
    "    if len(X2_train[_].unique()) != len(X2_kaggle[_].unique()):\n",
    "        print(f\"Train set's {_} does not match Kaggle competition set's!!\")\n"
   ]
  },
  {
   "cell_type": "code",
   "execution_count": null,
   "id": "39f91cbb",
   "metadata": {},
   "outputs": [],
   "source": [
    "# Check overall_qual\n",
    "display(X2_train.overall_qual.unique())\n",
    "display(X2_kaggle.overall_qual.unique())"
   ]
  },
  {
   "cell_type": "markdown",
   "id": "317bbdf7",
   "metadata": {},
   "source": [
    "Kaggle competition set is missing the value \"1\" for overall_qual. Not an issue as I will be setting \"1\" as baseline dummy and dropping it."
   ]
  },
  {
   "cell_type": "code",
   "execution_count": null,
   "id": "03b6e5af",
   "metadata": {},
   "outputs": [],
   "source": [
    "# Check overall_qual\n",
    "display(X2_train.bsmt_qual.unique())\n",
    "display(X2_test.bsmt_qual.unique())"
   ]
  },
  {
   "cell_type": "markdown",
   "id": "40d8eaf5",
   "metadata": {},
   "source": [
    "Test set is missing the value \"1\" for bsmt_qual. Not an issue as I can set \"1\" as baseline dummy and dropping it."
   ]
  },
  {
   "cell_type": "code",
   "execution_count": null,
   "id": "f51d47b4",
   "metadata": {},
   "outputs": [],
   "source": [
    "# Check overall_qual\n",
    "display(X2_train.heating_qc.unique())\n",
    "display(X2_kaggle.heating_qc.unique())"
   ]
  },
  {
   "cell_type": "markdown",
   "id": "bf7465b9",
   "metadata": {},
   "source": [
    "Kaggle competition set is missing the value \"0\" for heating_qc. Not an issue as I will be setting \"0\" as baseline dummy and dropping it."
   ]
  },
  {
   "cell_type": "code",
   "execution_count": null,
   "id": "fa677c95",
   "metadata": {},
   "outputs": [],
   "source": [
    "X2_train.shape"
   ]
  },
  {
   "cell_type": "code",
   "execution_count": null,
   "id": "689da788",
   "metadata": {},
   "outputs": [],
   "source": [
    "# Create dummies, take note to set bsmt_qual_1 as baseline dummy\n",
    "\n",
    "X3_train = pd.get_dummies(\n",
    "    data = X2_train, \n",
    "    columns = to_convert,\n",
    "    drop_first = False\n",
    ").drop(\n",
    "    columns = {'overall_qual_1',\n",
    "              'exter_qual_0',\n",
    "              'bsmt_qual_1',\n",
    "              'bsmt_exposure_0',\n",
    "              'heating_qc_0',\n",
    "              'fireplace_qu_0',\n",
    "              'garage_finish_0'}\n",
    ")"
   ]
  },
  {
   "cell_type": "code",
   "execution_count": null,
   "id": "094f2a85",
   "metadata": {},
   "outputs": [],
   "source": [
    "# Check number of columns that should be added\n",
    "count =0\n",
    "for _ in to_convert:\n",
    "    count += len(X2_train[_].unique())\n",
    "count"
   ]
  },
  {
   "cell_type": "code",
   "execution_count": null,
   "id": "d0677b8e",
   "metadata": {},
   "outputs": [],
   "source": [
    "X3_train.shape"
   ]
  },
  {
   "cell_type": "code",
   "execution_count": null,
   "id": "4c730e68",
   "metadata": {},
   "outputs": [],
   "source": [
    "# Check correct number of columns added:\n",
    "# X2's columns + count of unique values - the 7 original colummns the dummies displaced - 7 dropped baseline dummies\n",
    "59 + 40 - 7 - 7"
   ]
  },
  {
   "cell_type": "code",
   "execution_count": null,
   "id": "06b5ed0d",
   "metadata": {},
   "outputs": [],
   "source": [
    "# Create dummies for test set\n",
    "\n",
    "X3_test = pd.get_dummies(\n",
    "    data = X2_test, \n",
    "    columns = to_convert,\n",
    "    drop_first = False\n",
    ").drop(\n",
    "    columns = {'overall_qual_1',\n",
    "              'exter_qual_0',\n",
    "#              'bsmt_qual_1',\n",
    "              'bsmt_exposure_0',\n",
    "              'heating_qc_0',\n",
    "              'fireplace_qu_0',\n",
    "              'garage_finish_0'}\n",
    ")"
   ]
  },
  {
   "cell_type": "code",
   "execution_count": null,
   "id": "8ceccae7",
   "metadata": {},
   "outputs": [],
   "source": [
    "X3_test.shape"
   ]
  },
  {
   "cell_type": "code",
   "execution_count": null,
   "id": "7d51134a",
   "metadata": {},
   "outputs": [],
   "source": [
    "# Create dummies for full X set to fit model for Kaggle competition set\n",
    "X3 = pd.get_dummies(\n",
    "    data = X2, \n",
    "    columns = to_convert,\n",
    "    drop_first = False\n",
    ").drop(\n",
    "    columns = {'overall_qual_1',\n",
    "              'exter_qual_0',\n",
    "              'bsmt_qual_1',\n",
    "              'bsmt_exposure_0',\n",
    "              'heating_qc_0',\n",
    "              'fireplace_qu_0',\n",
    "              'garage_finish_0'}\n",
    ")"
   ]
  },
  {
   "cell_type": "code",
   "execution_count": null,
   "id": "0110aa49",
   "metadata": {},
   "outputs": [],
   "source": [
    "X3.shape"
   ]
  },
  {
   "cell_type": "code",
   "execution_count": null,
   "id": "6cec8b5e",
   "metadata": {},
   "outputs": [],
   "source": [
    "# Create dummies for Kaggle competition set\n",
    "\n",
    "X3_kaggle = pd.get_dummies(\n",
    "    data = X2_kaggle, \n",
    "    columns = to_convert,\n",
    "    drop_first = False\n",
    ").drop(\n",
    "    columns = {#'overall_qual_1',\n",
    "              'exter_qual_0',\n",
    "              'bsmt_qual_1',\n",
    "              'bsmt_exposure_0',\n",
    "#               'heating_qc_0',\n",
    "              'fireplace_qu_0',\n",
    "              'garage_finish_0'}\n",
    ")"
   ]
  },
  {
   "cell_type": "code",
   "execution_count": null,
   "id": "a14759ee",
   "metadata": {},
   "outputs": [],
   "source": [
    "X3_kaggle.shape"
   ]
  },
  {
   "cell_type": "markdown",
   "id": "d39e45ba",
   "metadata": {},
   "source": [
    "#### Standard regression (on X3)"
   ]
  },
  {
   "cell_type": "code",
   "execution_count": null,
   "id": "4a753040",
   "metadata": {},
   "outputs": [],
   "source": [
    "# Instantiate model\n",
    "lr = LinearRegression()\n",
    "\n",
    "# Fit Model\n",
    "%timeit lr.fit(X3_train, y2_train)\n",
    "\n",
    "# Cross_val_score (R2) on train set\n",
    "cv = cross_val_score(\n",
    "    lr,\n",
    "    X3_train,\n",
    "    y2_train,\n",
    "    cv = 5,\n",
    "    scoring = 'r2'\n",
    ")\n",
    "print(f\"The standard regression's R2 on train set is {cv.mean():.3f}.\")\n",
    "\n",
    "# # Cross_val_score (RMSE) on train set\n",
    "# cv = cross_val_score(\n",
    "#     lr,\n",
    "#     X_train2,\n",
    "#     y_train2,\n",
    "#     cv = 5,\n",
    "#     scoring = 'neg_root_mean_squared_error'\n",
    "# )\n",
    "# print(f\"The standard regression's RMSE on train set is {cv.mean():.0f}.\")\n",
    "\n",
    "# Cross_val_score can only calculate the RMSE on the transformed log-price, which gives\n",
    "# a very miniscule RMSE since logs are small numbers. \n",
    "# No choice, use standard RMSE calculation on the entire train set\n",
    "y_pred = np.exp(lr.predict(X3_train)) -1\n",
    "print(f\"The standard regression's RMSE on train set is {np.sqrt(mean_squared_error(y_train, y_pred)):.0f}.\")\n",
    "\n",
    "# R2 on test set\n",
    "y_pred = np.exp(lr.predict(X3_test)) -1\n",
    "print(f'The R2 on test set is {r2_score(y_test, y_pred):.3f}.')\n",
    "\n",
    "# RMSE on test set\n",
    "# Remember to re-transform the predicted log(prices) back to normal prices\n",
    "print(f'The RMSE on test set is {np.sqrt(mean_squared_error(y_test, y_pred)):.0f}.')"
   ]
  },
  {
   "cell_type": "code",
   "execution_count": null,
   "id": "0b44c717",
   "metadata": {},
   "outputs": [],
   "source": [
    "# Submit Kaggle competition set\n",
    "\n",
    "# Fit model on combined train and test sets\n",
    "lr.fit(X3, y2)\n",
    "\n",
    "# Predict sale prices based on Kaggle competition set\n",
    "y_pred = np.exp(lr.predict(X3_kaggle)) -1\n",
    "sub_reg['SalePrice'] = y_pred\n",
    "sub_reg.to_csv('../datasets/model_8.csv', index = False)"
   ]
  },
  {
   "cell_type": "code",
   "execution_count": null,
   "id": "cfab42aa",
   "metadata": {},
   "outputs": [],
   "source": [
    "# Plot |coefficients| > 0.025\n",
    "threshold = 0.025\n",
    "lr_coef = pd.DataFrame(lr.coef_, index = X3.columns, columns = [\"coef\"])\n",
    "lr_coef = lr_coef.loc[np.abs(lr_coef.coef) > threshold, :].sort_values(by=['coef'], ascending = False)\n",
    "\n",
    "plt.figure(figsize=(15,10))\n",
    "sns.barplot(data = lr_coef, x = \"coef\", y = lr_coef.index);"
   ]
  },
  {
   "cell_type": "markdown",
   "id": "0838b89b",
   "metadata": {},
   "source": [
    "Update performance table\n",
    "\n",
    "| S/N | Model | Description | R2 (train) |  RMSE (train) | R2 (test) |  RMSE (test) | RMSE (Kaggle) |Runtime | Remarks |\n",
    "|-----|-------|-------------|------------|---------------|-----------|--------------|---------------|--------|---------|\n",
    "| 1 | Baseline | Use the mean of train set's sale prices as predictor | 0.00 | 78,017 | -0.00 | 82,756 | 83,691 | 33 µs | The mean sales price is $181,591 |\n",
    "| | | | | | | | | | |\n",
    "| 2 | Standard regression | OLS on the 28 chosen variables | 0.89 | 25,808 | 0.89 | 27,012 | 35,820 | 4.81 ms | |\n",
    "| 3| Lasso regression | Same variables as above, using its CV function to find optimal alpha | 0.89 | 25,926 | 0.89 | 27,127 | 32,049 | 245 ms | Selected alpha is 62.7 |\n",
    "| 4 | Ridge regression | Same variables as above, using its CV function to find optimal alpha | 0.89 | 25,907 | 0.89 | 27,005 | 35,332 | 2.34 s | Set alpha range to be between 0.001 to 1000, selected alpha is 0.132 |\n",
    "| | | | | | | | | | |\n",
    "| 5 | Standard regression | Selected variables, including sale price, are log- and sqrt- transformed | 0.89 | 22,219 | 0.92 | 23,963 | 34,139 | 3.71 ms | |\n",
    "| 6 | Lasso regression | Same variables as Model 5, using its CV function to find optimal alpha  | 0.89 | 22,445 | 0.92 | 23,941 | 29,936 | 219 ms | Selected alpha is 0.00034 |\n",
    "| 7 | Ridge regression | Same variables as Model 5, using its CV function to find optimal alpha | 0.89 | 22,221 | 0.92 | 23,953 | 33,944 | 2.17 s | Set alpha range to be between 0.001 to 1000, selected alpha is 0.152 |\n",
    "| | | | | | | | | | |\n",
    "| 8 | Standard regression | Same as Model 5, but ordinals are converted to dummies  | 0.88 | 21,365 | 0.92 | 23,421 | 33,353 | 5.94 ms | |"
   ]
  },
  {
   "cell_type": "markdown",
   "id": "33502d04",
   "metadata": {},
   "source": [
    "Performance is improved! I shall proceed to scale the remaining variables to see if Lasso and Ridge work better."
   ]
  },
  {
   "cell_type": "markdown",
   "id": "ad52567f",
   "metadata": {},
   "source": [
    "#### Lasso regression"
   ]
  },
  {
   "cell_type": "code",
   "execution_count": null,
   "id": "fcef7948",
   "metadata": {},
   "outputs": [],
   "source": [
    "# Apply standard scaler in order to fit Lasso and Ridge regressions later\n",
    "\n",
    "# Less columns to scale now, as 7 ordinals have been transformed to dummies\n",
    "# Reset numerical_cols according to X3\n",
    "numerical_cols = X3_train.max() != 1\n",
    "\n",
    "# Create X_train scaled variables and merge with dummies\n",
    "numeric = X3_train.loc[: , numerical_cols]\n",
    "dummy = X3_train.loc[: , -numerical_cols]\n",
    "\n",
    "Z3_train = pd.merge(\n",
    "    left = dummy.reset_index(drop = True),\n",
    "    right = pd.DataFrame(ss.fit_transform(numeric), columns = numeric.columns),\n",
    "    left_index = True,\n",
    "    right_index = True\n",
    ")\n",
    "\n",
    "\n",
    "# Create X_test scaled variables and merge with dummies, \n",
    "# but fit on X_train parameters\n",
    "numeric = X3_test.loc[: , numerical_cols]\n",
    "dummy = X3_test.loc[: , -numerical_cols]\n",
    "\n",
    "Z3_test = pd.merge(\n",
    "    left = dummy.reset_index(drop = True),\n",
    "    right = pd.DataFrame(ss.transform(numeric), columns = numeric.columns), # do not use fit_transform\n",
    "    left_index = True,\n",
    "    right_index = True\n",
    ")\n",
    "\n",
    "\n",
    "\n",
    "\n",
    "## For use on Kaggle competition set, create Z that is fitted and transformed on the full X set\n",
    "numeric = X3.loc[: , numerical_cols]\n",
    "dummy = X3.loc[: , -numerical_cols]\n",
    "\n",
    "Z3 = pd.merge(\n",
    "    left = dummy.reset_index(drop = True),\n",
    "    right = pd.DataFrame(ss.fit_transform(numeric), columns = numeric.columns),\n",
    "    left_index = True,\n",
    "    right_index = True\n",
    ")\n",
    "\n",
    "# Use fitted scaler above to transform Kaggle competition set\n",
    "numeric = X3_kaggle.loc[: , numerical_cols]\n",
    "dummy = X3_kaggle.loc[: , -numerical_cols]\n",
    "\n",
    "Z3_kaggle = pd.merge(\n",
    "    left = dummy.reset_index(drop = True),\n",
    "    right = pd.DataFrame(ss.transform(numeric), columns = numeric.columns), # do not use fit_transform\n",
    "    left_index = True,\n",
    "    right_index = True\n",
    ")"
   ]
  },
  {
   "cell_type": "code",
   "execution_count": null,
   "id": "546d9f03",
   "metadata": {},
   "outputs": [],
   "source": [
    "# Instantiate\n",
    "lasso = LassoCV(\n",
    "    n_alphas = 500,\n",
    "    cv = 5,\n",
    "    random_state = 42\n",
    ")\n",
    "\n",
    "# Fit using scaled variables Z_train\n",
    "%timeit lasso.fit(Z3_train, y2_train)\n",
    "\n",
    "# Show optimal alpha\n",
    "print(f'The optimal alpha for {lasso} is {lasso.alpha_:.5f}.')\n",
    "\n",
    "# Cross_val_score (R2) on train set\n",
    "cv = cross_val_score(\n",
    "    lasso,\n",
    "    Z3_train,\n",
    "    y2_train,\n",
    "    cv = 5,\n",
    "    scoring = 'r2'\n",
    ")\n",
    "print(f\"The LassoCV's R2 on train set is {cv.mean():.3f}.\")\n",
    "\n",
    "# # Cross_val_score (RMSE) on train set\n",
    "# cv = cross_val_score(\n",
    "#     lasso,\n",
    "#     Z_train2,\n",
    "#     y_train2,\n",
    "#     cv = 5,\n",
    "#     scoring = 'neg_root_mean_squared_error'\n",
    "# )\n",
    "# print(f\"The LassoCV's RMSE on train set is {cv.mean():.0f}.\")\n",
    "\n",
    "# Calc RMSE on train set\n",
    "y_pred = np.exp(lasso.predict(Z3_train)) -1\n",
    "print(f\"The Lasso regression's RMSE on train set is {np.sqrt(mean_squared_error(y_train, y_pred)):.0f}.\")\n",
    "\n",
    "# R2 on test set\n",
    "y_pred = np.exp(lasso.predict(Z3_test)) -1\n",
    "print(f'The R2 on test set is {r2_score(y_test, y_pred):.3f}.')\n",
    "\n",
    "# RMSE on test set\n",
    "print(f'The RMSE on test set is {np.sqrt(mean_squared_error(y_test, y_pred)):.0f}.')"
   ]
  },
  {
   "cell_type": "code",
   "execution_count": null,
   "id": "ee923b3a",
   "metadata": {},
   "outputs": [],
   "source": [
    "# Submit Kaggle competition set\n",
    "\n",
    "# Fit model on combined train and test sets\n",
    "lasso.fit(Z3, y2)\n",
    "\n",
    "# Predict sale prices based on Kaggle competition set\n",
    "y_pred = np.exp(lasso.predict(Z3_kaggle)) -1\n",
    "sub_reg['SalePrice'] = y_pred\n",
    "sub_reg.to_csv('../datasets/model_9.csv', index = False)"
   ]
  },
  {
   "cell_type": "code",
   "execution_count": null,
   "id": "3ad0953e",
   "metadata": {},
   "outputs": [],
   "source": [
    "# Plot |coefficients| > 0.025\n",
    "threshold = 0.025\n",
    "lasso_coef = pd.DataFrame(lasso.coef_, index = Z3.columns, columns = [\"coef\"])\n",
    "lasso_coef = lasso_coef.loc[np.abs(lasso_coef.coef) > threshold, :].sort_values(by=['coef'], ascending = False)\n",
    "\n",
    "plt.figure(figsize=(15,10))\n",
    "sns.barplot(data = lasso_coef, x = \"coef\", y = lasso_coef.index);"
   ]
  },
  {
   "cell_type": "markdown",
   "id": "f2d3c961",
   "metadata": {},
   "source": [
    "Update performance table\n",
    "\n",
    "| S/N | Model | Description | R2 (train) |  RMSE (train) | R2 (test) |  RMSE (test) | RMSE (Kaggle) |Runtime | Remarks |\n",
    "|-----|-------|-------------|------------|---------------|-----------|--------------|---------------|--------|---------|\n",
    "| 1 | Baseline | Use the mean of train set's sale prices as predictor | 0.00 | 78,017 | -0.00 | 82,756 | 83,691 | 33 µs | The mean sales price is $181,591 |\n",
    "| | | | | | | | | | |\n",
    "| 2 | Standard regression | OLS on the 28 chosen variables | 0.89 | 25,808 | 0.89 | 27,012 | 35,820 | 4.81 ms | |\n",
    "| 3| Lasso regression | Same variables as above, using its CV function to find optimal alpha | 0.89 | 25,926 | 0.89 | 27,127 | 32,049 | 245 ms | Selected alpha is 62.7 |\n",
    "| 4 | Ridge regression | Same variables as above, using its CV function to find optimal alpha | 0.89 | 25,907 | 0.89 | 27,005 | 35,332 | 2.34 s | Set alpha range to be between 0.001 to 1000, selected alpha is 0.132 |\n",
    "| | | | | | | | | | |\n",
    "| 5 | Standard regression | Selected variables, including sale price, are log- and sqrt- transformed | 0.89 | 22,219 | 0.92 | 23,963 | 34,139 | 3.71 ms | |\n",
    "| 6 | Lasso regression | Same variables as Model 5, using its CV function to find optimal alpha  | 0.89 | 22,445 | 0.92 | 23,941 | 29,936 | 219 ms | Selected alpha is 0.00034 |\n",
    "| 7 | Ridge regression | Same variables as Model 5, using its CV function to find optimal alpha | 0.89 | 22,221 | 0.92 | 23,953 | 33,944 | 2.17 s | Set alpha range to be between 0.001 to 1000, selected alpha is 0.152 |\n",
    "| | | | | | | | | | |\n",
    "| 8 | Standard regression | Same as Model 5, but ordinals are converted to dummies  | 0.880 | 21,365 | 0.920 | 23,421 | 33,353 | 5.94 ms | |\n",
    "| 9 | Lasso regression | Same variables as Model 8, using its CV function to find optimal alpha  | 0.880 | 21,451 | 0.922 | 23,042 | 31,000 | 326 ms | Selected alpha is 0.00030 |"
   ]
  },
  {
   "cell_type": "markdown",
   "id": "e95078b8",
   "metadata": {},
   "source": [
    "XXXXX"
   ]
  },
  {
   "cell_type": "markdown",
   "id": "c0d6ee52",
   "metadata": {},
   "source": [
    "#### Ridge regression"
   ]
  },
  {
   "cell_type": "code",
   "execution_count": null,
   "id": "276c7e3f",
   "metadata": {},
   "outputs": [],
   "source": [
    "# Instantiate\n",
    "ridge = RidgeCV(\n",
    "    alphas = np.logspace(-3,3,100),\n",
    "    cv = 5\n",
    ")\n",
    "\n",
    "# Fit using scaled variables Z_train\n",
    "%timeit ridge.fit(Z3_train, y2_train)\n",
    "\n",
    "# Show optimal alpha\n",
    "print(f'The optimal alpha for {ridge} is {ridge.alpha_:.3f}.')\n",
    "\n",
    "# Cross_val_score (R2) on train set\n",
    "cv = cross_val_score(\n",
    "    ridge,\n",
    "    Z3_train,\n",
    "    y2_train,\n",
    "    cv = 5,\n",
    "    scoring = 'r2'\n",
    ")\n",
    "print(f\"The RidgeCV's R2 on train set is {cv.mean():.3f}.\")\n",
    "\n",
    "\n",
    "# Calc RMSE on train set, since the cross_val_score output on log-saleprice can't be tweaked to reflect exp(log-saleprice)\n",
    "y_pred = np.exp(ridge.predict(Z3_train)) -1\n",
    "print(f\"The Ridge regression's RMSE on train set is {np.sqrt(mean_squared_error(y_train, y_pred)):.0f}.\")\n",
    "\n",
    "# R2 on test set\n",
    "y_pred = np.exp(ridge.predict(Z3_test)) -1\n",
    "print(f'The R2 on test set is {r2_score(y_test, y_pred):.3f}.')\n",
    "\n",
    "# RMSE on test set\n",
    "print(f'The RMSE on test set is {np.sqrt(mean_squared_error(y_test, y_pred)):.0f}.')"
   ]
  },
  {
   "cell_type": "code",
   "execution_count": null,
   "id": "74c3947a",
   "metadata": {},
   "outputs": [],
   "source": [
    "# Submit Kaggle competition set\n",
    "\n",
    "# Fit model on combined train and test sets\n",
    "ridge.fit(Z3, y2)\n",
    "\n",
    "# Predict sale prices based on Kaggle competition set\n",
    "y_pred = np.exp(ridge.predict(Z3_kaggle)) -1\n",
    "sub_reg['SalePrice'] = y_pred\n",
    "sub_reg.to_csv('../datasets/model_10.csv', index = False)"
   ]
  },
  {
   "cell_type": "code",
   "execution_count": null,
   "id": "592cebb1",
   "metadata": {},
   "outputs": [],
   "source": [
    "# Plot |coefficients| > 0.025\n",
    "threshold = 0.025\n",
    "ridge_coef = pd.DataFrame(ridge.coef_, index = Z3.columns, columns = [\"coef\"])\n",
    "ridge_coef = ridge_coef.loc[np.abs(ridge_coef.coef) > threshold, :].sort_values(by=['coef'], ascending = False)\n",
    "\n",
    "plt.figure(figsize=(15,10))\n",
    "sns.barplot(data = ridge_coef, x = \"coef\", y = ridge_coef.index);"
   ]
  },
  {
   "cell_type": "markdown",
   "id": "1eec0c30",
   "metadata": {},
   "source": [
    "Update performance table\n",
    "\n",
    "| S/N | Model | Description | Number of columns incl dummies | R2 (train) |  RMSE (train) | R2 (test) |  RMSE (test) | RMSE (Kaggle) |Runtime | Remarks |\n",
    "|-----|-------|-------------|-----------------------------|------------|---------------|-----------|--------------|---------------|--------|---------|\n",
    "| 1 | Baseline | Use the mean of train set's sale prices as predictor | 1 | 0.00 | 78,017 | -0.00 | 82,756 | 83,691 | 33 µs | The mean sales price is $181,591 |\n",
    "| | | | | | | | | | |\n",
    "| 2 | Standard regression | OLS on the 28 chosen variables | 59 | 0.89 | 25,808 | 0.89 | 27,012 | 35,820 | 4.81 ms | |\n",
    "| 3| Lasso regression | Same variables as above, using its CV function to find optimal alpha | 59 |0.89 | 25,926 | 0.89 | 27,127 | 32,049 | 245 ms | Selected alpha is 62.7 |\n",
    "| 4 | Ridge regression | Same variables as above, using its CV function to find optimal alpha | 59 |0.89 | 25,907 | 0.89 | 27,005 | 35,332 | 2.34 s | Set alpha range to be between 0.001 to 1000, selected alpha is 0.132 |\n",
    "| | | | | | | | | | |\n",
    "| 5 | Standard regression | Selected variables, including sale price, are log- and sqrt- transformed | 59 | 0.89 | 22,219 | 0.92 | 23,963 | 34,139 | 3.71 ms | |\n",
    "| 6 | Lasso regression | Same variables as Model 5, using its CV function to find optimal alpha  | 59 |0.89 | 22,445 | 0.92 | 23,941 | 29,936 | 219 ms | Selected alpha is 0.00034 |\n",
    "| 7 | Ridge regression | Same variables as Model 5, using its CV function to find optimal alpha | 59 |0.89 | 22,221 | 0.92 | 23,953 | 33,944 | 2.17 s | Set alpha range to be between 0.001 to 1000, selected alpha is 0.152 |\n",
    "| | | | | | | | | | |\n",
    "| 8 | Standard regression | Same as Model 5, but ordinals are converted to dummies  | 85 |0.880 | 21,365 | 0.920 | 23,421 | 33,353 | 5.94 ms | |\n",
    "| 9 | Lasso regression | Same variables as Model 8, using its CV function to find optimal alpha  | 85 |0.880 | 21,451 | 0.922 | 23,042 | 31,000 | 326 ms | Selected alpha is 0.00030 |\n",
    "| 10 | Ridge regression | Same variables as Model 8, using its CV function to find optimal alpha | 85 |0.878 | 21,438 | 0.920 | 22,982 | 32,656 | 2.54 s | Set alpha range to be between 0.001 to 1000, selected alpha is 0.1630 |"
   ]
  },
  {
   "cell_type": "markdown",
   "id": "be3e80a4",
   "metadata": {},
   "source": [
    "Ridge regression seems to perform better than Lasso in the test set, but worse in the Kaggle competition set. Close  fight.\n",
    "\n",
    "I have also added a new comparison metric called \"Number of columns incl dummies\" to show the extra complexity of Models 8-10 over Models 2-7. Any increase in complexity could make it harder for end-users to understand my model and it must be \"compensated\" by a reasonable increase in predictive capabilities, which I think is warranted in this case. "
   ]
  },
  {
   "cell_type": "markdown",
   "id": "39e5bc56",
   "metadata": {},
   "source": [
    "### Interaction terms (on X4)"
   ]
  },
  {
   "cell_type": "code",
   "execution_count": null,
   "id": "a0a85689",
   "metadata": {},
   "outputs": [],
   "source": [
    "# Interaction only terms\n",
    "\n",
    "poly = PolynomialFeatures(\n",
    "    include_bias = False, #remove intercept term\n",
    "    interaction_only = True,\n",
    ") \n",
    "\n",
    "poly.fit(X3_train)\n",
    "\n",
    "X4_train = poly.transform(X3_train)\n",
    "X4_test = poly.transform(X3_test)\n",
    "X4 = poly.transform(X3)\n",
    "X4_kaggle = poly.transform(X3_kaggle)"
   ]
  },
  {
   "cell_type": "code",
   "execution_count": null,
   "id": "2241c86d",
   "metadata": {},
   "outputs": [],
   "source": [
    "X4_train.shape, X4_test.shape, X4.shape, X4_kaggle.shape"
   ]
  },
  {
   "cell_type": "markdown",
   "id": "7aa37b68",
   "metadata": {},
   "source": [
    "It is generally a bad idea to do an indiscriminate polynomial-transform of variables, even if it is for interaction-only terms, as you will end up with thousands of features, which will lead to an overfitting scenario. It also makes for an extremely long runtime.\n",
    "\n",
    "It is better to decide a priori what should be added as interaction terms using logic and understanding of how people price houses.\n"
   ]
  },
  {
   "cell_type": "markdown",
   "id": "8b2aafc8",
   "metadata": {},
   "source": [
    "#### Standard regression (on X4)"
   ]
  },
  {
   "cell_type": "code",
   "execution_count": null,
   "id": "7cc5b507",
   "metadata": {},
   "outputs": [],
   "source": [
    "# Instantiate model\n",
    "lr = LinearRegression()\n",
    "\n",
    "# Fit Model\n",
    "%timeit lr.fit(X4_train, y2_train)\n",
    "\n",
    "# Cross_val_score (R2) on train set\n",
    "# cv = cross_val_score(\n",
    "#     lr,\n",
    "#     X4_train,\n",
    "#     y2_train,\n",
    "#     cv = 5,\n",
    "#     scoring = 'r2'\n",
    "# )\n",
    "# print(f\"The standard regression's R2 on train set is {cv.mean():.3f}.\")\n",
    "y_pred = np.exp(lr.predict(X4_train)) -1\n",
    "print(f\"The standard regression's R2 on train set is {r2_score(y_train, y_pred):.3f}.\")\n",
    "print(f\"The standard regression's RMSE on train set is {np.sqrt(mean_squared_error(y_train, y_pred)):.0f}.\")\n",
    "\n",
    "# R2 on test set\n",
    "y_pred = np.exp(lr.predict(X4_test)) -1\n",
    "print(f'The R2 on test set is {r2_score(y_test, y_pred):.3f}.')\n",
    "\n",
    "# RMSE on test set\n",
    "# Remember to re-transform the predicted log(prices) back to normal prices\n",
    "print(f'The RMSE on test set is {np.sqrt(mean_squared_error(y_test, y_pred)):.0f}.')"
   ]
  },
  {
   "cell_type": "code",
   "execution_count": null,
   "id": "c66897ee",
   "metadata": {},
   "outputs": [],
   "source": [
    "# Submit Kaggle competition set\n",
    "\n",
    "# Fit model on combined train and test sets\n",
    "lr.fit(X4, y2)\n",
    "\n",
    "# Predict sale prices based on Kaggle competition set\n",
    "y_pred = np.exp(lr.predict(X4_kaggle)) -1\n",
    "sub_reg['SalePrice'] = y_pred\n",
    "sub_reg.to_csv('../datasets/model_11.csv', index = False)"
   ]
  },
  {
   "cell_type": "markdown",
   "id": "10ba3c18",
   "metadata": {},
   "source": [
    "Update performance table\n",
    "\n",
    "| S/N | Model | Description | Number of columns incl dummies | R2 (train) |  RMSE (train) | R2 (test) |  RMSE (test) | RMSE (Kaggle) |Runtime | Remarks |\n",
    "|-----|-------|-------------|-----------------------------|------------|---------------|-----------|--------------|---------------|--------|---------|\n",
    "| 1 | Baseline | Use the mean of train set's sale prices as predictor | 1 | 0.00 | 78,017 | -0.00 | 82,756 | 83,691 | 33 µs | The mean sales price is $181,591 |\n",
    "| | | | | | | | | | |\n",
    "| 2 | Standard regression | OLS on the 28 chosen variables | 59 | 0.89 | 25,808 | 0.89 | 27,012 | 35,820 | 4.81 ms | |\n",
    "| 3| Lasso regression | Same variables as above, using its CV function to find optimal alpha | 59 |0.89 | 25,926 | 0.89 | 27,127 | 32,049 | 245 ms | Selected alpha is 62.7 |\n",
    "| 4 | Ridge regression | Same variables as above, using its CV function to find optimal alpha | 59 |0.89 | 25,907 | 0.89 | 27,005 | 35,332 | 2.34 s | Set alpha range to be between 0.001 to 1000, selected alpha is 0.132 |\n",
    "| | | | | | | | | | |\n",
    "| 5 | Standard regression | Selected variables, including sale price, are log- and sqrt- transformed | 59 | 0.89 | 22,219 | 0.92 | 23,963 | 34,139 | 3.71 ms | |\n",
    "| 6 | Lasso regression | Same variables as Model 5, using its CV function to find optimal alpha  | 59 |0.89 | 22,445 | 0.92 | 23,941 | 29,936 | 219 ms | Selected alpha is 0.00034 |\n",
    "| 7 | Ridge regression | Same variables as Model 5, using its CV function to find optimal alpha | 59 |0.89 | 22,221 | 0.92 | 23,953 | 33,944 | 2.17 s | Set alpha range to be between 0.001 to 1000, selected alpha is 0.152 |\n",
    "| | | | | | | | | | |\n",
    "| 8 | Standard regression | Same as Model 5, but ordinals are converted to dummies  | 85 |0.880 | 21,365 | 0.920 | 23,421 | 33,353 | 5.94 ms | |\n",
    "| 9 | Lasso regression | Same variables as Model 8, using its CV function to find optimal alpha  | 85 |0.880 | 21,451 | 0.922 | 23,042 | 31,000 | 326 ms | Selected alpha is 0.00030 |\n",
    "| 10 | Ridge regression | Same variables as Model 8, using its CV function to find optimal alpha | 85 |0.878 | 21,438 | 0.920 | 22,982 | 32,656 | 2.54 s | Set alpha range to be between 0.001 to 1000, selected alpha is 0.1630 |\n",
    "| | | | | | | | | | |\n",
    "| 11 | Standard regression | Interaction terms on ALL variables in Model 8 (3655 features in total!)  | 3,655 | 1.000 | 110 | -10367197316 | 8425455884 | 129407287166325 x 10^45 | 992 ms | |"
   ]
  },
  {
   "cell_type": "markdown",
   "id": "347c622c",
   "metadata": {},
   "source": [
    "As mentioned above, Model 11 is just to confirm that it is generally a BAD idea to indiscriminately convert every X variables into interaction terms. While the R2 and RSME for the train set are near-perfect, the RSMEs for test set and Kaggle competition set are ludicrous, which is a clear sign of overfitting."
   ]
  },
  {
   "cell_type": "code",
   "execution_count": null,
   "id": "190f3887",
   "metadata": {},
   "outputs": [],
   "source": [
    "# Review column names again\n",
    "X3_train.columns"
   ]
  },
  {
   "cell_type": "markdown",
   "id": "5bbf7e4b",
   "metadata": {},
   "source": [
    "What might be more sensible is to perhaps look at a few variables that might be psychogically important to buyers. For example, if a house is new, the coefficients for gross living area and basement sqft might be higher than those for old houses, i.e. a buyer may think a larger built-up area for new houses is more valuable, because for old houses, they intend to tear down and rebuild so built-up area is not too important?\n",
    "\n",
    "I shall proceed to try two interaction terms:\n",
    "1. sale_type_New x gr_liv_area\n",
    "2. sale_type_New x bsmtfin_sf_1\n"
   ]
  },
  {
   "cell_type": "code",
   "execution_count": null,
   "id": "45a3e3ab",
   "metadata": {},
   "outputs": [],
   "source": [
    "# Create new variables \n",
    "X4_train = X3_train\n",
    "X4_test = X3_test\n",
    "X4 = X3\n",
    "X4_kaggle = X3_kaggle \n",
    "\n",
    "# Create interaction function for convenience later\n",
    "def create_inter(data, term1, term2):\n",
    "    newterm = term1 + 'X' + term2\n",
    "    data[newterm] = data[term1] * data[term2]\n",
    "    \n",
    "## Ask TAs why X3 is affected when I only apply the function to X4?! How to fix it?\n",
    "create_inter(X4_train, 'sale_type_New', 'gr_liv_area')\n",
    "create_inter(X4_test, 'sale_type_New', 'gr_liv_area')\n",
    "create_inter(X4, 'sale_type_New', 'gr_liv_area')\n",
    "create_inter(X4_kaggle, 'sale_type_New', 'gr_liv_area')"
   ]
  },
  {
   "cell_type": "code",
   "execution_count": null,
   "id": "74a16fd5",
   "metadata": {},
   "outputs": [],
   "source": [
    "# Check\n",
    "X4_train[['sale_type_New', 'gr_liv_area', 'sale_type_NewXgr_liv_area']].describe()"
   ]
  },
  {
   "cell_type": "markdown",
   "id": "7374f78b",
   "metadata": {},
   "source": [
    "Interaction term looks right"
   ]
  },
  {
   "cell_type": "code",
   "execution_count": null,
   "id": "15d575f7",
   "metadata": {},
   "outputs": [],
   "source": [
    "# Instantiate model\n",
    "lr = LinearRegression()\n",
    "\n",
    "# Fit Model\n",
    "%timeit lr.fit(X4_train, y2_train)\n",
    "\n",
    "# Cross_val_score (R2) on train set\n",
    "cv = cross_val_score(\n",
    "    lr,\n",
    "    X4_train,\n",
    "    y2_train,\n",
    "    cv = 5,\n",
    "    scoring = 'r2'\n",
    ")\n",
    "print(f\"The standard regression's R2 on train set is {cv.mean():.3f}.\")\n",
    "\n",
    "# # Cross_val_score (RMSE) on train set\n",
    "# cv = cross_val_score(\n",
    "#     lr,\n",
    "#     X_train2,\n",
    "#     y_train2,\n",
    "#     cv = 5,\n",
    "#     scoring = 'neg_root_mean_squared_error'\n",
    "# )\n",
    "# print(f\"The standard regression's RMSE on train set is {cv.mean():.0f}.\")\n",
    "\n",
    "# Cross_val_score can only calculate the RMSE on the transformed log-price, which gives\n",
    "# a very miniscule RMSE since logs are small numbers. \n",
    "# No choice, use standard RMSE calculation on the entire train set\n",
    "y_pred = np.exp(lr.predict(X4_train)) -1\n",
    "print(f\"The standard regression's RMSE on train set is {np.sqrt(mean_squared_error(y_train, y_pred)):.0f}.\")\n",
    "\n",
    "# R2 on test set\n",
    "y_pred = np.exp(lr.predict(X4_test)) -1\n",
    "print(f'The R2 on test set is {r2_score(y_test, y_pred):.3f}.')\n",
    "\n",
    "# RMSE on test set\n",
    "# Remember to re-transform the predicted log(prices) back to normal prices\n",
    "print(f'The RMSE on test set is {np.sqrt(mean_squared_error(y_test, y_pred)):.0f}.')"
   ]
  },
  {
   "cell_type": "code",
   "execution_count": null,
   "id": "7f0028e9",
   "metadata": {},
   "outputs": [],
   "source": [
    "# Plot top few coefficients only\n",
    "\n",
    "lr_coef = pd.DataFrame(lr.coef_, index = X4_train.columns, columns = [\"coef\"])\n",
    "lr_coef = lr_coef.sort_values(by=['coef'], ascending = False).head(20)\n",
    "\n",
    "plt.figure(figsize=(15,10))\n",
    "sns.barplot(data = lr_coef, x = \"coef\", y = lr_coef.index);"
   ]
  },
  {
   "cell_type": "markdown",
   "id": "14eb2f1c",
   "metadata": {},
   "source": [
    "It looks like the interaction term (sale_type_NewXgr_liv_area) is meaningfully added, as it appears in the top 15 ranking of coeffcients and its value is aproximately half that of the original term (gr_liv_area)."
   ]
  },
  {
   "cell_type": "code",
   "execution_count": null,
   "id": "c006bc1a",
   "metadata": {},
   "outputs": [],
   "source": [
    "# Extract and interpret coefficients\n",
    "pd.DataFrame(lr.coef_, index = X4_train.columns, columns = [\"coef\"]).loc[['gr_liv_area','sale_type_NewXgr_liv_area']]"
   ]
  },
  {
   "cell_type": "markdown",
   "id": "1b1195e8",
   "metadata": {},
   "source": [
    "Our suspicion is correct. The above coefficients mean that:\n",
    "- For a non-new house, every unit increase in log(gr_live_area) increases the log(saleprice) by 0.376.\n",
    "- For a new house, every unit increase in log(gr_live_area) increases the log(saleprice) by 0.376 + 0.171 = 0.547."
   ]
  },
  {
   "cell_type": "code",
   "execution_count": null,
   "id": "6c853c7b",
   "metadata": {},
   "outputs": [],
   "source": [
    "0.376 + 0.171"
   ]
  },
  {
   "cell_type": "markdown",
   "id": "54bb9bfb",
   "metadata": {},
   "source": [
    "However, our new variable only results in a marginal improvement in test scores. Let's try out a fuller set of interaction terms as follow:\n",
    "- sale_type_New x gr_live_area\n",
    "- overall_qual x gr_live_area\n",
    "- neighborhood x gr_live_area\n",
    "\n",
    "Using a similar logic, this means that the newer the house or the higher quality a house is or in certain highly-desriable neighborhoods, a buyer is willing to pay more per sqft of gross living area."
   ]
  },
  {
   "cell_type": "code",
   "execution_count": null,
   "id": "4eb9dde7",
   "metadata": {},
   "outputs": [],
   "source": [
    "# Create fuller set of interaction terms\n",
    "\n",
    "# Copy-paste from X3.columns\n",
    "to_convert = ['neighborhood_Blmngtn', 'neighborhood_Blueste',\n",
    "               'neighborhood_BrDale', 'neighborhood_BrkSide', 'neighborhood_ClearCr',\n",
    "               'neighborhood_CollgCr', 'neighborhood_Crawfor', 'neighborhood_Edwards',\n",
    "               'neighborhood_Gilbert', 'neighborhood_Greens', 'neighborhood_GrnHill',\n",
    "               'neighborhood_IDOTRR', 'neighborhood_Landmrk', 'neighborhood_MeadowV',\n",
    "               'neighborhood_Mitchel', 'neighborhood_NAmes', 'neighborhood_NPkVill',\n",
    "               'neighborhood_NWAmes', 'neighborhood_NoRidge', 'neighborhood_NridgHt',\n",
    "               'neighborhood_SWISU', 'neighborhood_Sawyer', 'neighborhood_SawyerW',\n",
    "               'neighborhood_Somerst', 'neighborhood_StoneBr', 'neighborhood_Timber',\n",
    "               'neighborhood_Veenker',\n",
    "              'overall_qual_2', 'overall_qual_3', 'overall_qual_4', \n",
    "              'overall_qual_5', 'overall_qual_6', 'overall_qual_7', \n",
    "              'overall_qual_8', 'overall_qual_9', 'overall_qual_10',\n",
    "              'sale_type_New']\n",
    "\n",
    "for _ in to_convert:\n",
    "    create_inter(X4_train,_, 'gr_liv_area')\n",
    "    create_inter(X4_test,_, 'gr_liv_area')\n",
    "    create_inter(X4,_, 'gr_liv_area')\n",
    "    create_inter(X4_kaggle,_, 'gr_liv_area')\n",
    "## Ask TAs why X3 is affected when I only apply the function to X4?! How to fix it?"
   ]
  },
  {
   "cell_type": "code",
   "execution_count": null,
   "id": "aa3c1fa2",
   "metadata": {},
   "outputs": [],
   "source": [
    "len(to_convert)"
   ]
  },
  {
   "cell_type": "code",
   "execution_count": null,
   "id": "16070e19",
   "metadata": {},
   "outputs": [],
   "source": [
    "# Check: i should see 37 additional columns in X4 over X3\n",
    "X4_train.shape, X4_test.shape, X4.shape, X4_kaggle.shape"
   ]
  },
  {
   "cell_type": "code",
   "execution_count": null,
   "id": "4b4f39b4",
   "metadata": {},
   "outputs": [],
   "source": [
    "# Instantiate model\n",
    "lr = LinearRegression()\n",
    "\n",
    "# Fit Model\n",
    "%timeit lr.fit(X4_train, y2_train)\n",
    "\n",
    "# Cross_val_score (R2) on train set\n",
    "cv = cross_val_score(\n",
    "    lr,\n",
    "    X4_train,\n",
    "    y2_train,\n",
    "    cv = 5,\n",
    "    scoring = 'r2'\n",
    ")\n",
    "print(f\"The standard regression's R2 on train set is {cv.mean():.3f}.\")\n",
    "\n",
    "# # Cross_val_score (RMSE) on train set\n",
    "# cv = cross_val_score(\n",
    "#     lr,\n",
    "#     X_train2,\n",
    "#     y_train2,\n",
    "#     cv = 5,\n",
    "#     scoring = 'neg_root_mean_squared_error'\n",
    "# )\n",
    "# print(f\"The standard regression's RMSE on train set is {cv.mean():.0f}.\")\n",
    "\n",
    "# Cross_val_score can only calculate the RMSE on the transformed log-price, which gives\n",
    "# a very miniscule RMSE since logs are small numbers. \n",
    "# No choice, use standard RMSE calculation on the entire train set\n",
    "y_pred = np.exp(lr.predict(X4_train)) -1\n",
    "print(f\"The standard regression's RMSE on train set is {np.sqrt(mean_squared_error(y_train, y_pred)):.0f}.\")\n",
    "\n",
    "# R2 on test set\n",
    "y_pred = np.exp(lr.predict(X4_test)) -1\n",
    "print(f'The R2 on test set is {r2_score(y_test, y_pred):.3f}.')\n",
    "\n",
    "# RMSE on test set\n",
    "# Remember to re-transform the predicted log(prices) back to normal prices\n",
    "print(f'The RMSE on test set is {np.sqrt(mean_squared_error(y_test, y_pred)):.0f}.')"
   ]
  },
  {
   "cell_type": "code",
   "execution_count": null,
   "id": "4aea51e8",
   "metadata": {},
   "outputs": [],
   "source": [
    "# Submit Kaggle competition set\n",
    "\n",
    "# Fit model on combined train and test sets\n",
    "lr.fit(X4, y2)\n",
    "\n",
    "# Predict sale prices based on Kaggle competition set\n",
    "y_pred = np.exp(lr.predict(X4_kaggle)) -1\n",
    "sub_reg['SalePrice'] = y_pred\n",
    "sub_reg.to_csv('../datasets/model_12.csv', index = False)"
   ]
  },
  {
   "cell_type": "code",
   "execution_count": null,
   "id": "25d3a4dc",
   "metadata": {},
   "outputs": [],
   "source": [
    "# Plot |coefficients| > 0.1\n",
    "threshold = 0.1\n",
    "lr_coef = pd.DataFrame(lr.coef_, index = X4.columns, columns = [\"coef\"])\n",
    "lr_coef = lr_coef.loc[np.abs(lr_coef.coef) > threshold, :].sort_values(by=['coef'], ascending = False)\n",
    "\n",
    "plt.figure(figsize=(15,15))\n",
    "sns.barplot(data = lr_coef, x = \"coef\", y = lr_coef.index);"
   ]
  },
  {
   "cell_type": "markdown",
   "id": "aa3676fb",
   "metadata": {},
   "source": [
    "Update performance table\n",
    "\n",
    "| S/N | Model | Description | Number of columns incl dummies | R2 (train) |  RMSE (train) | R2 (test) |  RMSE (test) | RMSE (Kaggle) |Runtime | Remarks |\n",
    "|-----|-------|-------------|-----------------------------|------------|---------------|-----------|--------------|---------------|--------|---------|\n",
    "| 1 | Baseline | Use the mean of train set's sale prices as predictor | 1 | 0.00 | 78,017 | -0.00 | 82,756 | 83,691 | 33 µs | The mean sales price is $181,591 |\n",
    "| | | | | | | | | | |\n",
    "| 2 | Standard regression | OLS on the 28 chosen variables | 59 | 0.890 | 25,808 | 0.893 | 27,012 | 35,820 | 4.81 ms | |\n",
    "| 3| Lasso regression | Same variables as above, using its CV function to find optimal alpha | 59 |0.889 | 25,926 | 0.893 | 27,127 | 32,049 | 245 ms | Selected alpha is 62.7 |\n",
    "| 4 | Ridge regression | Same variables as above, using its CV function to find optimal alpha | 59 |0.889 | 25,907 | 0.894 | 27,005 | 35,332 | 2.34 s | Set alpha range to be between 0.001 to 1000, selected alpha is 0.132 |\n",
    "| | | | | | | | | | |\n",
    "| 5 | Standard regression | Selected variables, including sale price, are log- and sqrt- transformed | 59 | 0.890 | 22,219 | 0.916 | 23,963 | 34,139 | 3.71 ms | |\n",
    "| 6 | Lasso regression | Same variables as Model 5, using its CV function to find optimal alpha  | 59 |0.888 | 22,445 | 0.916 | 23,941 | 29,936 | 219 ms | Selected alpha is 0.00034 |\n",
    "| 7 | Ridge regression | Same variables as Model 5, using its CV function to find optimal alpha | 59 |0.890 | 22,221 | 0.916 | 23,953 | 33,944 | 2.17 s | Set alpha range to be between 0.001 to 1000, selected alpha is 0.152 |\n",
    "| | | | | | | | | | |\n",
    "| 8 | Standard regression | Same as Model 5, but ordinals are converted to dummies  | 85 |0.880 | 21,365 | 0.920 | 23,421 | 33,353 | 5.94 ms | |\n",
    "| 9 | Lasso regression | Same variables as Model 8, using its CV function to find optimal alpha  | 85 |0.880 | 21,451 | 0.922 | 23,042 | 31,000 | 326 ms | Selected alpha is 0.00030 |\n",
    "| 10 | Ridge regression | Same variables as Model 8, using its CV function to find optimal alpha | 85 |0.878 | 21,438 | 0.920 | 22,982 | 32,656 | 2.54 s | Set alpha range to be between 0.001 to 1000, selected alpha is 0.1630 |\n",
    "| | | | | | | | | | |\n",
    "| 11 | Standard regression | Interaction terms on ALL variables in Model 8 (3655 features in total!)  | 3,655 | 1.000 | 110 | -10367197316 | 8425455884 | 129407287166325 x 10^45 | 992 ms | |\n",
    "| 12 | Standard regression | Interaction terms on New House x Gross Living Area, plus Various Quality Levels x Gross Living Area  | 122 | 0.809 | 19,582 | 0.918 | 23,683| 194,050 | 9.25 ms| |\n"
   ]
  },
  {
   "cell_type": "markdown",
   "id": "e55d3962",
   "metadata": {},
   "source": [
    "__Summary__\n",
    "\n",
    "Model 11 shows the lunacy of using too many interaction terms (unbounded RMSEs), but Model 12 shows the danger of using even just a handle of interaction terms (10 additional). At first glance, it looks promising as both train and test RMSEs are in line (or slightly better) compared to Models 8 and 5. However, its Kaggle RMSE is totally off the chart. \n",
    "\n",
    "Upon further investigation, I realise that the Kaggle competition test mostly have houses that have gross living areas that are much smaller than my train/test sets, and my predicted Kaggle values between Model 12 and Model 8 deviate quite a lot on those small houses. This means that Model 12 probably fitted too heavily on neighborhood features that are based on a sample set with large average house sizes, and when it tries to apply those estimated parameters on small houses, the prediction is totally off because interaction terms amplify errors when the variables are multiplied.\n",
    "\n",
    "I thought about using Model 11.5 (which is the trial model that uses one additional interaction term only:  sale_type_New x gr_live_area), so the risk of overfitting is lower than Model 12. It has just a slightly better train set RMSE than Model 8 (21,002 vs 21,365) and an equivalent test set RMSE as Model 8 (23,424 vs 23,421). \n",
    "\n",
    "However, given the danger we saw with using interact terms in Model 12 and the fact that Model 11.5 has almost similar RMSEs as Model 8, it is probably prudent to go with a simpler model, i.e. one that does not use interaction terms at all.\n",
    "\n",
    "I guess this marks the end of our interaction-term adventure, with no need to go on to Lasso and Ridge regressions, as the same fundamental issue with fitting on multiplied terms on vastly different data sets (train/set vs Kaggle competition set) will be present."
   ]
  },
  {
   "cell_type": "markdown",
   "id": "336f7a5c",
   "metadata": {},
   "source": [
    "## Model selection"
   ]
  },
  {
   "cell_type": "markdown",
   "id": "67f571fa",
   "metadata": {},
   "source": [
    "### Between Models 5-7 & Models 8-10"
   ]
  },
  {
   "cell_type": "code",
   "execution_count": null,
   "id": "10088f24",
   "metadata": {},
   "outputs": [],
   "source": [
    "# Models 5-7\n",
    "print(f\"Average R2 on train/test set = {(0.890 + 0.888 + 0.890 + 0.916 + 0.916 + 0.916)/6:.3f}\")\n",
    "print(f\"Average RMSE on train set = {(22219 + 22445 + 22221)/3:.0f}\")\n",
    "print(f\"Average RMSE on test set = {(23963 + 23941 + 23953)/3:.0f}\")\n",
    "print(f\"Average R2 on Kaggle competition set = {(34139 + 29936 + 33944)/3:.0f}\")"
   ]
  },
  {
   "cell_type": "code",
   "execution_count": null,
   "id": "72eb60fb",
   "metadata": {},
   "outputs": [],
   "source": [
    "# Models 8-10\n",
    "print(f\"Average R2 on train/test set = {(0.880 + 0.880 + 0.878 + 0.920 + 0.922 + 0.920)/6:.3f}\")\n",
    "print(f\"Average RMSE on train set = {(21365 + 21451 + 21438)/3:.0f}\")\n",
    "print(f\"Average RMSE on test set = {(23421 + 23042 + 22982)/3:.0f}\")\n",
    "print(f\"Average R2 on Kaggle competition set = {(33353 + 31000 + 32656)/3:.0f}\")"
   ]
  },
  {
   "cell_type": "code",
   "execution_count": null,
   "id": "e37b1bad",
   "metadata": {},
   "outputs": [],
   "source": [
    "21418/22295-1, 23148/23952-1, 32336/32673-1"
   ]
  },
  {
   "cell_type": "markdown",
   "id": "6fa66a6c",
   "metadata": {},
   "source": [
    "We now evaluate two distinct sets of models:\n",
    "1. Models 5-7, fitted on 28 cleaned variables, with categorical variables such as neighborhood, mas_vnr_type and sale_type converted into dummies, and continuous variables such as saleprice and gr_liv_area tranformed by the natural logarithm or square root function \n",
    "    - 59 columns in total\n",
    "2. Model 8-10, same transformations as Models 5-7, plus ordinal variables such as overall_qual and exter_qual converted to dummies \n",
    "    - 85 columns in total\n",
    "    \n",
    "Evaluation criteria:\n",
    "1. RMSE: On average, Models 8-10 have practically the same average R2s as Models 5-7 (0.900 vs 0.903). This shows why R2s are typically not used by data scientists these days. On average, the RMSEs for Models 8-10 are lower than Models 5-7 (21418 vs 22295 for train set, 23148 vs 22295 for test set, 32336 vs 32673 for Kaggle competition set). In percentage terms, the average RMSEs are 3.9%, 3.4% and 1.0% lower respectively.\n",
    "2. Complexity: Models 8-10 are definitely more complex than Model 5-7 (85 columns vs 59 columns). This increases the risk of overfitting, and this could be possibly why Model 8-10's overperformance drop as we progress from train set (3.9%) to test set (3.4%) to Kaggle competition set (1.0%).  \n",
    "3. Coefficients: Ultimately, we need to be able to explain our model to clients so that they can feel that it can be trusted. In the images below, I show all coefficients from Model 6 and Model 9 that are more than 0.025 or less than -0.025. \n",
    "    - One can see that it is simpler to explain Model 6 than Model 9. For example, it is east to explain \"Every increase in overall quality rating implies an approximately 10% increase in price, all else equal\" (Model 6), than telling a client \"A house with an overall quality rating of 7 is expected to have a 15% higher price than one with a rating of 1 (which is the baseline dummy)\". Client might reply \"I don't understand what the quality difference is between level 1 and level 7.\"\n",
    "    - While one may criticise Models 5-7's ordinal variables for assuming an equal \"distance\" between each quality level, one may also criticise Models 8-10 for being overly-assuming regarding \"distances\" between each quality level. For example, a client may question Model 6 saying \"Why is the gap between quality levels 9 and 10 so narrow, and so wide between levels 8 and 9? It doesn't make sense to me as that is not how I would rate houses. What gives me the confidence to trust that your assumptions are correct?\"\n",
    "    - In addition, the client may question the logicality of overall quality levels 3 and 2 predicting prices that are lower than level 1 (-7% and -28% respectively). While that is what the data says, it can lead to a loss of confidence in the model by the client.\n",
    "4. Stability of model: I wonder if it makes sense to test the stability of my estimated coefficients for both sets of models, in addition to RMSEs that I have already generated. For example, I would combine my train+test sets into one again, randomly split into 50/50, and fit parameters for both of them. If the estimated coefficients are roughly the same for Models 5-7 for both equally-sized sets, but wildly different for Models 8-10, then the latter can't be trusted as much as the results aren't \"stable\". As an illustration, I conduct the test for Model 6 vs 9 below.\n",
    "5. Run time: A small consideration here, but run times for Models 5-7 are faster than their counterparts in Models 8-10.\n",
    "\n",
    "Conclusion:\n",
    "All things considered, I will prefer Models 5-7 over Models 8-10, as it is simplier to explain to my clients, there is less chance of overfitting, the runtime is faster, and its RMSE is only 1-3% less than that of Models 8-10."
   ]
  },
  {
   "attachments": {
    "image.png": {
     "image/png": "[encoded data removed]"
    }
   },
   "cell_type": "markdown",
   "id": "96c464ab",
   "metadata": {},
   "source": [
    "Coefficients of Model 6\n",
    "![image.png](attachment:image.png)"
   ]
  },
  {
   "attachments": {
    "image.png": {
     "image/png": "[encoded data removed]"
    }
   },
   "cell_type": "markdown",
   "id": "0fa24b4b",
   "metadata": {},
   "source": [
    "Coefficients of Model 9\n",
    "![image.png](attachment:image.png)"
   ]
  },
  {
   "cell_type": "markdown",
   "id": "ea76563f",
   "metadata": {},
   "source": [
    "### Between Model 5, 6 or 7\n",
    "\n",
    "I reprint the performance metric of Models 5-7. I choose Lasso regression (Model 6) for two main reasons:\n",
    "- Lasso set has fewer non-zero coefficients, which makes it easier to explain to clients.\n",
    "- Lasso has lower RMSEs than Ridge and standard OLS for the test set and Kagel competition set.\n",
    "\n",
    "| S/N | Model | Description | R2 (train) |  RMSE (train) | R2 (test) |  RMSE (test) | RMSE (Kaggle) |Runtime | Remarks |\n",
    "|-----|-------|-------------|------------|---------------|-----------|--------------|---------------|--------|---------|\n",
    "| 5 | Standard regression | Selected variables, including sale price, are log- and sqrt- transformed | 0.89 | 22,219 | 0.92 | 23,963 | 34,139 | 3.71 ms | |\n",
    "| 6 | Lasso regression | Same variables as Model 5, using its CV function to find optimal alpha  | 0.89 | 22,445 | 0.92 | 23,941 | 29,936 | 219 ms | Selected alpha is 0.00034 |\n",
    "| 7 | Ridge regression | Same variables as Model 5, using its CV function to find optimal alpha | 0.89 | 22,221 | 0.92 | 23,953 | 33,944 | 2.17 s | Set alpha range to be between 0.001 to 1000, selected alpha is 0.152 |"
   ]
  },
  {
   "cell_type": "code",
   "execution_count": null,
   "id": "ab650029",
   "metadata": {},
   "outputs": [],
   "source": [
    "# Count numnber of non-zero coefficients for Lasso\n",
    "print(f\"The number of non-zero coefficients for Model 5 is {(lr.fit(Z2, y2).coef_ != 0).sum()}.\")\n",
    "print(f\"The number of non-zero coefficients for Model 6 is {(lasso.fit(Z2, y2).coef_ != 0).sum()}.\")\n",
    "print(f\"The number of non-zero coefficients for Model 7 is {(ridge.fit(Z2, y2).coef_ != 0).sum()}.\")"
   ]
  },
  {
   "cell_type": "markdown",
   "id": "103e17b6",
   "metadata": {},
   "source": [
    "## Recommendations \n",
    "### Key points"
   ]
  },
  {
   "cell_type": "code",
   "execution_count": null,
   "id": "80bc2787",
   "metadata": {},
   "outputs": [],
   "source": [
    "# Instantiate\n",
    "lasso = LassoCV(\n",
    "    n_alphas = 500,\n",
    "    cv = 5,\n",
    "    random_state = 42\n",
    ")\n",
    "\n",
    "# Fit using scaled variables Z_train\n",
    "%timeit lasso.fit(Z2, y2)\n",
    "\n",
    "# Plot |coefficients| > 0.025\n",
    "threshold = 0.025\n",
    "lasso_coef = pd.DataFrame(lasso.coef_, index = Z2.columns, columns = [\"coef\"])\n",
    "lasso_coef = lasso_coef.loc[np.abs(lasso_coef.coef) > threshold, :].sort_values(by=['coef'], ascending = False)\n",
    "\n",
    "plt.figure(figsize=(15,10))\n",
    "sns.barplot(data = lasso_coef, x = \"coef\", y = lasso_coef.index);\n",
    "\n",
    "display(lasso_coef)"
   ]
  },
  {
   "cell_type": "markdown",
   "id": "6d1f9912",
   "metadata": {},
   "source": [
    "Factors for homebuyers to consider:\n",
    "1. Neighborhood - Gross living area is the biggest predictor of housing prices but that is not interesting to home buyers. This is an expected variable. The next biggest predictor would be neighborhood locations. GrmHill and Crawfor are the next most important factors in a buyer's mind, above factors such as overall quality of house or availability of central air conditioning. MeadowV and IDOTRR are the most undesirable factors. For instance, a house in GrmHill and Crawfor is expected to be priced 12.7% and 11.5% more than one in OldTown, while one in MeadowV and IDOTRR is expected to be priced 6.2% and -6.1% below one in OldTown.\n",
    "2. Overall quality of house - For every increase in quality rating, a house price is expected to increase by 10.1%, all else equal.\n",
    "3. Air conditioning - A house with central air con is expected to be worth 7.5% more than a house without, all else equal. \n",
    "4. Functionality - A house with typical functionality is expected to be worth 7.3% more than a house without, all else equal.\n",
    "\n",
    "Negatives:\n",
    "1. Sale type COD: A house that is being sold under court order is expected to be priced 5.9% below one that is sold under standard mortgage terms.\n",
    "2. Condition types: It is bad to live near negative features. A house that is situated near to feeder roads and arteries is expected to be priced 5.0% below one that does not have any positive or negative external features in the vicinity. A house that is situated near a railroad is expected to be priced 2.7% below one that does not have any positive or negative external features in the vicinity."
   ]
  },
  {
   "cell_type": "markdown",
   "id": "d2e88bbc",
   "metadata": {},
   "source": [
    "### Details "
   ]
  },
  {
   "cell_type": "code",
   "execution_count": null,
   "id": "20679a4e",
   "metadata": {},
   "outputs": [],
   "source": [
    "# Refresh memory of features again\n",
    "Z2.columns"
   ]
  },
  {
   "cell_type": "markdown",
   "id": "a9274ae8",
   "metadata": {},
   "source": [
    "I will start with describing neighborhoods first, then condition types, then masonry veneer type, sale type. Finally, i will discuss the non-categorical variables."
   ]
  },
  {
   "cell_type": "markdown",
   "id": "da0e149f",
   "metadata": {},
   "source": [
    "#### Neighborhood desirability"
   ]
  },
  {
   "cell_type": "code",
   "execution_count": null,
   "id": "2de13e6b",
   "metadata": {
    "scrolled": false
   },
   "outputs": [],
   "source": [
    "# Create z2_coef dataframe for viewing\n",
    "z2_coef = pd.DataFrame(\n",
    "    lasso.coef_, \n",
    "    index = Z2.columns, \n",
    "    columns = [\"coef\"]\n",
    ")\n",
    "\n",
    "# Extract neighborhood variables only\n",
    "z2_coef = z2_coef[['neighborhood' in _ for _ in Z2.columns]].sort_values(by=['coef'], ascending = False)\n",
    "\n",
    "plt.figure(figsize=(15,7))\n",
    "sns.barplot(data = z2_coef, x = \"coef\", y = z2_coef.index);\n"
   ]
  },
  {
   "cell_type": "markdown",
   "id": "2061c73e",
   "metadata": {},
   "source": [
    "Clients will be interested to know that the most desirable neighborhoods, if price is a reflection of desirability, are indicated in the colored chart above, with Green Hills, Crawford, Stone Brook, Clear Creek and Northridge Heights leading the pack. \n",
    "The numbers in the table below will be useful to clients if they want to compare expected prices between neighborhoods, all else equal. The neighborhood chosen as baseline dummy is Old Town and my regression uses log-prices, so the way to interpret the numbers (using some examples below) is:\n",
    "- A house in Clear Creek is expected to cost 5.23% more than a house in Old Town, all other attributes equal\n",
    "- The expected price differential between a house in Green Hill and one in Stone Brook, all else equal, can be obtained by dividing the coefficients, i.e. 1.1275/1.0949 -1 = 2.98%.\n",
    "- A few neighborhoods are practically equal to Old Town in terms of pricing as their coefficients are zero/near-zero: Timberland, Greens, South & West of Iowa State University, Landmark, Bluestem, Northpark Villa and Northwest Ames."
   ]
  },
  {
   "cell_type": "code",
   "execution_count": null,
   "id": "1409d744",
   "metadata": {},
   "outputs": [],
   "source": [
    "1.1275/1.0949 -1"
   ]
  },
  {
   "cell_type": "code",
   "execution_count": null,
   "id": "044d2195",
   "metadata": {},
   "outputs": [],
   "source": [
    "display(z2_coef)"
   ]
  },
  {
   "cell_type": "markdown",
   "id": "23025403",
   "metadata": {},
   "source": [
    "#### Proximity to conditions"
   ]
  },
  {
   "cell_type": "code",
   "execution_count": null,
   "id": "7402f91c",
   "metadata": {
    "scrolled": false
   },
   "outputs": [],
   "source": [
    "# Create z2_coef dataframe for viewing\n",
    "z2_coef = pd.DataFrame(\n",
    "    lasso.coef_, \n",
    "    index = Z2.columns, \n",
    "    columns = [\"coef\"]\n",
    ")\n",
    "\n",
    "# Extract neighborhood variables only\n",
    "z2_coef = z2_coef[['condition' in _ for _ in Z2.columns]].sort_values(by=['coef'], ascending = False)\n",
    "\n",
    "plt.figure(figsize=(10,5))\n",
    "sns.barplot(data = z2_coef, x = \"coef\", y = z2_coef.index, palette = 'YlOrRd');\n",
    "\n",
    "display(z2_coef)"
   ]
  },
  {
   "cell_type": "markdown",
   "id": "8e6092bf",
   "metadata": {},
   "source": [
    "The baseline dummy for \"proximity to various conditions\" is Normal, which i take it to mean the property is not near any positive or negative condition. Clients would be interested to look for properties that are near or adjacent to positive features such as parks and greenbelt, as they are expected to be worth 4.2% above a 'Normal' property. Clients should try to avoid properties that are near railraods, as they are priced 2.7% below a normal property.\n",
    "\n",
    "The most undesirable condition to be in close proximity to would be arterial street or feeder street, as they are priced 5.0% below a 'normal' property. "
   ]
  },
  {
   "cell_type": "markdown",
   "id": "19945244",
   "metadata": {},
   "source": [
    "#### Masonry veneer type"
   ]
  },
  {
   "cell_type": "code",
   "execution_count": null,
   "id": "322ecf75",
   "metadata": {
    "scrolled": false
   },
   "outputs": [],
   "source": [
    "# Create z2_coef dataframe for viewing\n",
    "z2_coef = pd.DataFrame(\n",
    "    lasso.coef_, \n",
    "    index = Z2.columns, \n",
    "    columns = [\"coef\"]\n",
    ")\n",
    "\n",
    "# Extract neighborhood variables only\n",
    "z2_coef = z2_coef[['mas_vnr_type' in _ for _ in Z2.columns]].sort_values(by=['coef'], ascending = False)\n",
    "\n",
    "# plt.figure(figsize=(15,7))\n",
    "# sns.barplot(data = z2_coef, y = \"coef\", x = z2_coef.index);\n",
    "\n",
    "display(z2_coef)"
   ]
  },
  {
   "cell_type": "markdown",
   "id": "b1f6e88d",
   "metadata": {},
   "source": [
    "The coefficients are not too large in economic terms, so I will exclude this in the presentation. The baseline  dummy for masonry veneer type is \"brick common\". A property that has stone masonnry veneer is expected to be worth 0.2% more than a common brick house, while one that has a brick face veneer is expected to cost 1% less than a common brick house."
   ]
  },
  {
   "cell_type": "markdown",
   "id": "e0545c1e",
   "metadata": {},
   "source": [
    "#### Sale type\n"
   ]
  },
  {
   "cell_type": "code",
   "execution_count": null,
   "id": "e7994bb9",
   "metadata": {
    "scrolled": false
   },
   "outputs": [],
   "source": [
    "# Create z2_coef dataframe for viewing\n",
    "z2_coef = pd.DataFrame(\n",
    "    lasso.coef_, \n",
    "    index = Z2.columns, \n",
    "    columns = [\"coef\"]\n",
    ")\n",
    "\n",
    "# Extract neighborhood variables only\n",
    "z2_coef = z2_coef[['sale_type' in _ for _ in Z2.columns]].sort_values(by=['coef'], ascending = False)\n",
    "\n",
    "plt.figure(figsize=(10,5))\n",
    "sns.barplot(data = z2_coef, x = \"coef\", y = z2_coef.index, palette = \"YlGnBu\");\n",
    "\n",
    "display(z2_coef)"
   ]
  },
  {
   "cell_type": "markdown",
   "id": "ffe90a8a",
   "metadata": {},
   "source": [
    "The baseline dummy for housing sale type is \"Warranty Deed - Conventional\", the most common form of transaction. A client might be well-advised to avoid new houses if they can find another property with similar attributes (neighborhood, quality, size, etc), since it may not be worth it to pay the \"new house premium\" of 4.8%. It is similar to buying a new car...conventional wisdom says that a new car will depreciate 10-15% the moment you drive it out of the showroom, even though nothing else changes to the car other than traveling the 50 metres. \n",
    "\n",
    "On the flip side, a client might want to focus his/her search for sale types of a \"COD\" nature, which is defined as Court Officer Deed/Estate in the \n",
    "[data dictionary](http://jse.amstat.org/v19n3/decock/DataDocumentation.txt). A basic Google search seems to suggest that the house is being sold by a court appointed or supervised fiduciaries, perhaps due to bankruptcy or death of owner. The implied discount is 5.9%, which the new buyer stands to \"earn\" if the house reverts to a conventional warranty deed after purchase."
   ]
  },
  {
   "cell_type": "markdown",
   "id": "d00296a2",
   "metadata": {},
   "source": [
    "#### Other variables"
   ]
  },
  {
   "cell_type": "code",
   "execution_count": null,
   "id": "33f48f7d",
   "metadata": {
    "scrolled": false
   },
   "outputs": [],
   "source": [
    "# Create z2_coef dataframe for viewing\n",
    "z2_coef = pd.DataFrame(\n",
    "    lasso.coef_, \n",
    "    index = Z2.columns, \n",
    "    columns = [\"coef\"]\n",
    ")\n",
    "\n",
    "# Extract other variables not mentioned above,\n",
    "#    with at least a 2% impact on predicted price\n",
    "\n",
    "to_extract = ['street', \n",
    "              'foundation', 'central_air', 'electrical', 'functional', 'paved_drive',\n",
    "              'overall_qual',\n",
    "              'exter_qual', 'bsmt_qual', 'bsmt_exposure', 'heating_qc',\n",
    "              'fireplace_qu', 'garage_finish', 'lot_frontage_imputed', 'year_built',\n",
    "              'year_remod/add', 'mas_vnr_area', 'bsmtfin_sf_1', 'total_bsmt_sf',\n",
    "              'gr_liv_area', 'full_bath', 'garage_area', 'wood_deck_sf',\n",
    "              'open_porch_sf']\n",
    "\n",
    "z2_coef = z2_coef.loc[\n",
    "    to_extract\n",
    "].loc[\n",
    "    np.abs(z2_coef.coef) > 0.02\n",
    "].sort_values(by=['coef'], ascending = False)\n",
    "\n",
    "plt.figure(figsize=(15,7))\n",
    "sns.barplot(data = z2_coef, x = \"coef\", y = z2_coef.index, palette = 'pastel');\n",
    "\n",
    "display(z2_coef)"
   ]
  },
  {
   "cell_type": "markdown",
   "id": "9323c5f0",
   "metadata": {},
   "source": [
    "The above list shows housing variables that have at least a 2% predicted impact on sale price. Gross living area is by far the largest and most significant predictor of Ames housing prices. Overall quality of house follows second. These are not surprising variables for a client to see.\n",
    "\n",
    "What is perhaps surprising is the importance of central air conditioning in pricing. Perhaps if a client prefers to use fans or natural ventilation, or to install independent air con units in relevant rooms, they may save on the \"central a/c\" premium of 7.5% that one has to fork out for a house with that feature.\n",
    "\n",
    "In terms of area or size-related features, Gross Living Area ranks first, followed by Basement Finished Area, then Lot Frontage, Basement Square Footage, then Garage Area. If a homeowner wants to increase the value of his house, it makes sense to devote resouce to basement than garage, since the impact 5.3% vs 2.6% for every increase in sqft respectively.\n",
    "\n",
    "In terms of quality-related features, overall quality is more important that external quality, heating quality and fireplace quality. This is to be expected as overall quality encompasses all features, but if a homeowner has a limited budget and wants to choose one of the three features to improve on, it is better to focus on the external facade (2.4%) as opposed to heating (2.1%) and fireplace (2.1%)."
   ]
  },
  {
   "cell_type": "markdown",
   "id": "ca4b5eb8",
   "metadata": {},
   "source": [
    "## Conclusion\n",
    "\n",
    "From an initial start of 82 variables provided by Kaggle.com, I winnowed down to 28 variables after conducting data cleaning and exploratory data analysis. Variables that have low correlations to sale price were removed, and variables that have high correlations to one another were removed to avoid issues of multi-collinearity. I explored a few possible transformations of variables to see if predictive performance can be improved using R-squared and root mean squared errors as performance metrics. Unfortunately (or fortunately), I find that simpler models tend to perform better on balance, so the only transformation that is accepted to to appply log and sqrt transformation on some continuous variables such as sale price and property square footages. \n",
    "\n",
    "Finally, Lasso regression is selected over standard OLS and Ridge regressions as its model is easier to explain to clients (with fewer non-zero coefficients) and its predicitive ability is better (with lower RMSE). The Lasso regression is fine-tuned by exploring a range of 500 possible alphas, with a final selection of alpha = 0.00034. This means that only a little bit of regularisation is required to achieve the best RMSE outcome among 500 different Lasso regressions. \n",
    "\n",
    "Model results show that gross living area, neighborhood, quality, air conditioning and functionalities are the top 5 factors in driving house prices. Buyers should also look out for houses that are being sold under court-appointed fiduciaries, as they are generally sold at a reasonable discount when compared to another house with equivalent physical attributes."
   ]
  },
  {
   "cell_type": "code",
   "execution_count": null,
   "id": "aec2049a",
   "metadata": {},
   "outputs": [],
   "source": []
  }
 ],
 "metadata": {
  "kernelspec": {
   "display_name": "Python 3",
   "language": "python",
   "name": "python3"
  },
  "language_info": {
   "codemirror_mode": {
    "name": "ipython",
    "version": 3
   },
   "file_extension": ".py",
   "mimetype": "text/x-python",
   "name": "python",
   "nbconvert_exporter": "python",
   "pygments_lexer": "ipython3",
   "version": "3.8.8"
  },
  "toc": {
   "base_numbering": 1,
   "nav_menu": {},
   "number_sections": true,
   "sideBar": true,
   "skip_h1_title": true,
   "title_cell": "Table of Contents",
   "title_sidebar": "Contents",
   "toc_cell": true,
   "toc_position": {
    "height": "calc(100% - 180px)",
    "left": "10px",
    "top": "150px",
    "width": "288px"
   },
   "toc_section_display": true,
   "toc_window_display": true
  }
 },
 "nbformat": 4,
 "nbformat_minor": 5
}
